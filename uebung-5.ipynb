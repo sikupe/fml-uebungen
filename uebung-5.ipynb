{
 "cells": [
  {
   "cell_type": "markdown",
   "metadata": {
    "collapsed": true,
    "pycharm": {
     "name": "#%% md\n"
    }
   },
   "source": [
    "# Exercise 5\n",
    "\n",
    "## 1. Constructing the matrix"
   ]
  },
  {
   "cell_type": "code",
   "execution_count": 132,
   "outputs": [],
   "source": [
    "from __future__ import annotations\n",
    "\n",
    "import numpy as np\n",
    "import matplotlib.pyplot as plt\n",
    "from scipy.sparse import coo_matrix\n",
    "from typing import Optional, List"
   ],
   "metadata": {
    "collapsed": false,
    "pycharm": {
     "name": "#%%\n"
    }
   }
  },
  {
   "cell_type": "code",
   "execution_count": 133,
   "outputs": [],
   "source": [
    "def create_C(M: int) -> np.ndarray:\n",
    "    D = M ** 2\n",
    "    b = (M / 2)\n",
    "    b_lower = -b + 0.5\n",
    "    b_upper = b + 0.5\n",
    "\n",
    "    C = np.mgrid[b_lower:b_upper, b_lower:b_upper]\n",
    "    C = np.column_stack((C[1].flatten(), np.flip(C[0].flatten())))\n",
    "    C = C.T\n",
    "\n",
    "    assert C.shape == (2, D)\n",
    "\n",
    "    return C"
   ],
   "metadata": {
    "collapsed": false,
    "pycharm": {
     "name": "#%%\n"
    }
   }
  },
  {
   "cell_type": "code",
   "execution_count": 134,
   "outputs": [],
   "source": [
    "def create_unit_vector(alpha: float) -> np.ndarray:\n",
    "    return np.array([np.cos(alpha), np.sin(alpha)])"
   ],
   "metadata": {
    "collapsed": false,
    "pycharm": {
     "name": "#%%\n"
    }
   }
  },
  {
   "cell_type": "code",
   "execution_count": 142,
   "outputs": [],
   "source": [
    "def construct_X(M: int, alphas: np.ndarray | List[float], Np: Optional[int] = None) -> coo_matrix:\n",
    "    if Np is None:\n",
    "        Np = int(np.ceil(np.sqrt(2) * M))\n",
    "    assert Np is not None\n",
    "\n",
    "    alphas = np.radians(alphas)\n",
    "\n",
    "    D = M ** 2\n",
    "    No = len(alphas)\n",
    "    N = No * Np\n",
    "    beta = np.arange(D)\n",
    "    j = np.concatenate((beta, beta))\n",
    "\n",
    "    C = create_C(M)\n",
    "\n",
    "    s_0 = (Np / 2) - 0.5\n",
    "\n",
    "    i_s = []\n",
    "    j_s = []\n",
    "    x_s = []\n",
    "\n",
    "    for alpha_i, alpha in enumerate(alphas):\n",
    "        n = create_unit_vector(alpha)\n",
    "        p = n.T @ C + s_0\n",
    "\n",
    "        y_lower = np.floor(p)\n",
    "        y_higher = y_lower + 1\n",
    "\n",
    "        y_lower_dist = p - y_lower\n",
    "        y_higher_dist = 1 - y_lower_dist\n",
    "\n",
    "        y_lower_weight = 1 - y_lower_dist\n",
    "        y_higher_weight = 1 - y_higher_dist\n",
    "\n",
    "        i = np.concatenate((y_lower, y_higher))\n",
    "        to_remove = np.logical_or(i < 0, i >= Np)\n",
    "        # rp = np.repeat(np.arange(alpha_i, alpha_i + 1), D) * Np\n",
    "        # i += np.concatenate((rp, rp))\n",
    "        i += Np * alpha_i\n",
    "\n",
    "        x = np.concatenate((y_lower_weight, y_higher_weight))\n",
    "\n",
    "        # to_remove = np.unique(np.concatenate(np.where(x == 0)[0], to_remove))\n",
    "\n",
    "        # j = np.concatenate((beta, beta))\n",
    "\n",
    "        i, x, j = np.delete(i, to_remove), np.delete(x, to_remove), np.delete(j, to_remove)\n",
    "\n",
    "        i_s.append(i)\n",
    "        x_s.append(x)\n",
    "        j_s.append(j)\n",
    "\n",
    "    i = np.concatenate(i_s)\n",
    "    j = np.concatenate(j_s)\n",
    "    x = np.concatenate(x_s)\n",
    "\n",
    "    X = coo_matrix((x, (i, j)), shape=(N, D), dtype=np.float32)\n",
    "    return X\n"
   ],
   "metadata": {
    "collapsed": false,
    "pycharm": {
     "name": "#%%\n"
    }
   }
  },
  {
   "cell_type": "code",
   "execution_count": 143,
   "outputs": [],
   "source": [
    "def construct_X_vectorized(M: int, alphas: np.ndarray | List[float], Np: Optional[int] = None) -> coo_matrix:\n",
    "    if Np is None:\n",
    "        Np = int(np.ceil(np.sqrt(2) * M))\n",
    "    assert Np is not None\n",
    "\n",
    "    alphas = np.radians(alphas)\n",
    "\n",
    "    D = M ** 2\n",
    "    No = len(alphas)\n",
    "    N = No * Np\n",
    "    beta = np.arange(D)\n",
    "    j = np.tile(np.concatenate((beta, beta)), len(alphas)).reshape((len(alphas), D * 2))\n",
    "\n",
    "    C = create_C(M)\n",
    "\n",
    "    assert C.shape == (2, D)\n",
    "\n",
    "    s_0 = (Np / 2) - 0.5\n",
    "\n",
    "    n = create_unit_vector(alphas)\n",
    "    p = n.T @ C + s_0\n",
    "\n",
    "    y_lower = np.floor(p)\n",
    "    y_higher = y_lower + 1\n",
    "\n",
    "    y_lower_dist = p - y_lower\n",
    "    y_higher_dist = 1 - y_lower_dist\n",
    "\n",
    "    y_lower_weight = 1 - y_lower_dist\n",
    "    y_higher_weight = 1 - y_higher_dist\n",
    "\n",
    "    i = np.concatenate((y_lower, y_higher), axis=1)\n",
    "    to_remove = np.logical_or(i < 0, i >= Np)\n",
    "    rp = np.repeat(np.arange(len(alphas)), D * 2) * Np\n",
    "    i += rp.reshape((len(alphas), D * 2))\n",
    "\n",
    "    x = np.concatenate((y_lower_weight, y_higher_weight), axis=1)\n",
    "\n",
    "    i, x, j, to_remove = i.flatten(), x.flatten(), j.flatten(), to_remove.flatten()\n",
    "    i, x, j = np.delete(i, to_remove), np.delete(x, to_remove), np.delete(j, to_remove)\n",
    "\n",
    "    X = coo_matrix((x, (i, j)), shape=(N, D), dtype=np.float32)\n",
    "    return X"
   ],
   "metadata": {
    "collapsed": false,
    "pycharm": {
     "name": "#%%\n"
    }
   }
  },
  {
   "cell_type": "code",
   "execution_count": 139,
   "outputs": [
    {
     "data": {
      "text/plain": "<Figure size 432x288 with 1 Axes>",
      "image/png": "[encoded data removed]"
     },
     "metadata": {
      "needs_background": "light"
     },
     "output_type": "display_data"
    },
    {
     "data": {
      "text/plain": "<Figure size 432x288 with 1 Axes>",
      "image/png": "[encoded data removed]"
     },
     "metadata": {
      "needs_background": "light"
     },
     "output_type": "display_data"
    },
    {
     "data": {
      "text/plain": "<Figure size 432x288 with 1 Axes>",
      "image/png": "[encoded data removed]"
     },
     "metadata": {
      "needs_background": "light"
     },
     "output_type": "display_data"
    }
   ],
   "source": [
    "X_examp = np.load('tomography/X_example.npy')\n",
    "plt.imshow(X_examp)\n",
    "plt.show()\n",
    "\n",
    "M = 10\n",
    "alphas = np.array([-33, 1, 42])\n",
    "Np = 15\n",
    "\n",
    "X = construct_X_vectorized(M, alphas, Np)\n",
    "X_dense = X.todense()\n",
    "plt.imshow(X_dense)\n",
    "plt.show()\n",
    "\n",
    "assert np.allclose(X_examp, X_dense)\n",
    "\n",
    "X = construct_X(M, alphas, Np)\n",
    "X = X.todense()\n",
    "plt.imshow(X_dense)\n",
    "plt.show()\n",
    "\n",
    "assert np.allclose(X_examp, X_dense)"
   ],
   "metadata": {
    "collapsed": false,
    "pycharm": {
     "name": "#%%\n"
    }
   }
  },
  {
   "cell_type": "code",
   "execution_count": 145,
   "outputs": [
    {
     "name": "stdout",
     "output_type": "stream",
     "text": [
      "Vectorized performance test\n",
      "496 µs ± 73.7 µs per loop (mean ± std. dev. of 7 runs, 1000 loops each)\n",
      "Unvectorized performance test\n",
      "686 µs ± 114 µs per loop (mean ± std. dev. of 7 runs, 1000 loops each)\n"
     ]
    }
   ],
   "source": [
    "print('Vectorized performance test')\n",
    "%timeit construct_X_vectorized(10, [-33, 1, 42], 15)\n",
    "\n",
    "print('Unvectorized performance test')\n",
    "%timeit construct_X(10, [-33, 1, 42], 15)"
   ],
   "metadata": {
    "collapsed": false,
    "pycharm": {
     "name": "#%%\n"
    }
   }
  },
  {
   "cell_type": "code",
   "execution_count": 146,
   "outputs": [
    {
     "name": "stdout",
     "output_type": "stream",
     "text": [
      "Vectorized performance test\n",
      "1.56 s ± 439 ms per loop (mean ± std. dev. of 7 runs, 1 loop each)\n",
      "Unvectorized performance test\n",
      "1.56 s ± 264 ms per loop (mean ± std. dev. of 7 runs, 1 loop each)\n"
     ]
    }
   ],
   "source": [
    "print('Vectorized performance test')\n",
    "%timeit construct_X_vectorized(195, np.linspace(0, 2 * np.pi, 179, False), 275)\n",
    "\n",
    "print('Unvectorized performance test')\n",
    "%timeit construct_X(195, np.linspace(0, 2 * np.pi, 179, False), 275)"
   ],
   "metadata": {
    "collapsed": false,
    "pycharm": {
     "name": "#%%\n"
    }
   }
  },
  {
   "cell_type": "markdown",
   "source": [
    "## 2 Recovering the image"
   ],
   "metadata": {
    "collapsed": false
   }
  },
  {
   "cell_type": "code",
   "execution_count": null,
   "outputs": [],
   "source": [],
   "metadata": {
    "collapsed": false,
    "pycharm": {
     "name": "#%%\n"
    }
   }
  }
 ],
 "metadata": {
  "kernelspec": {
   "display_name": "Python 3",
   "language": "python",
   "name": "python3"
  },
  "language_info": {
   "codemirror_mode": {
    "name": "ipython",
    "version": 2
   },
   "file_extension": ".py",
   "mimetype": "text/x-python",
   "name": "python",
   "nbconvert_exporter": "python",
   "pygments_lexer": "ipython2",
   "version": "2.7.6"
  }
 },
 "nbformat": 4,
 "nbformat_minor": 0
}