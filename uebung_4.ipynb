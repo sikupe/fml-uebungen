{
 "cells": [
  {
   "cell_type": "markdown",
   "metadata": {},
   "source": [
    "# Preliminaries"
   ]
  },
  {
   "cell_type": "code",
   "execution_count": 35,
   "metadata": {},
   "outputs": [],
   "source": [
    "# import modules\n",
    "from typing import Tuple\n",
    "\n",
    "import matplotlib.pyplot as plt\n",
    "import numpy as np\n",
    "import pandas as pd\n",
    "from sklearn.ensemble import RandomForestClassifier"
   ]
  },
  {
   "cell_type": "code",
   "execution_count": 36,
   "metadata": {},
   "outputs": [],
   "source": [
    "# base classes\n",
    "\n",
    "class Node:\n",
    "    pass\n",
    "\n",
    "\n",
    "class Tree:\n",
    "    def __init__(self):\n",
    "        self.root = Node()\n",
    "\n",
    "    def find_leaf(self, x) -> Node:\n",
    "        node = self.root\n",
    "        while hasattr(node, \"feature\"):\n",
    "            j = node.feature\n",
    "            if x[j] <= node.threshold:\n",
    "                node = node.left\n",
    "            else:\n",
    "                node = node.right\n",
    "        return node"
   ]
  },
  {
   "cell_type": "markdown",
   "metadata": {},
   "source": [
    "# Density Tree"
   ]
  },
  {
   "cell_type": "code",
   "execution_count": 37,
   "metadata": {},
   "outputs": [],
   "source": [
    "def calc_bbox(data) -> (np.ndarray, np.ndarray):\n",
    "    return np.min(data, axis=0).copy(), np.max(data, axis=0).copy()\n",
    "\n",
    "\n",
    "class DensityTree(Tree):\n",
    "    def __init__(self):\n",
    "        super(DensityTree, self).__init__()\n",
    "\n",
    "    def train(self, data, prior, n_min=20):\n",
    "        '''\n",
    "        data: the feature matrix for the digit under consideration\n",
    "        prior: the prior probability of this digit\n",
    "        n_min: termination criterion (don't split if a node contains fewer instances)\n",
    "        '''\n",
    "        self.prior = prior\n",
    "        N, D = data.shape\n",
    "        D_try = int(np.sqrt(D))  # number of features to consider for each split decision\n",
    "\n",
    "        # find and remember the tree's bounding box, \n",
    "        # i.e. the lower and upper limits of the training feature set\n",
    "        m, M = calc_bbox(data)\n",
    "        self.box = m, M\n",
    "\n",
    "        # identify invalid features and adjust the bounding box\n",
    "        # (If m[j] == M[j] for some j, the bounding box has zero volume, \n",
    "        #  causing divide-by-zero errors later on. We must exclude these\n",
    "        #  features from splitting and adjust the bounding box limits \n",
    "        #  such that invalid features have no effect on the volume.)\n",
    "        valid_features = np.where(m != M)[0]\n",
    "        invalid_features = np.where(m == M)[0]\n",
    "        M[invalid_features] = m[invalid_features] + 1\n",
    "\n",
    "        # initialize the root node\n",
    "        self.root.data = data\n",
    "        self.root.box = m.copy(), M.copy()\n",
    "\n",
    "        # build the tree\n",
    "        stack = [self.root]\n",
    "        while len(stack):\n",
    "            node = stack.pop()\n",
    "            n = node.data.shape[0]  # number of instances in present node\n",
    "            if n >= n_min:\n",
    "                # Call 'make_density_split_node()' with 'D_try' randomly selected \n",
    "                # indices from 'valid_features'. This turns 'node' into a split node\n",
    "                # and returns the two children, which must be placed on the 'stack'.\n",
    "                indices = np.random.choice(np.arange(0, len(valid_features)), D_try, False)\n",
    "                left, right = make_density_split_node(node, N, valid_features[indices])\n",
    "                stack.append(left)\n",
    "                stack.append(right)\n",
    "            else:\n",
    "                # Call 'make_density_leaf_node()' to turn 'node' into a leaf node.\n",
    "                make_density_leaf_node(node, N)\n",
    "\n",
    "    def predict(self, x):\n",
    "        leaf = self.find_leaf(x)\n",
    "        # return p(x | y) * p(y) if x is within the tree's bounding box \n",
    "        # and return 0 otherwise\n",
    "\n",
    "        if np.sum(x < self.box[0]) > 0 or np.sum(x > self.box[1]) > 0:\n",
    "            return 0.0\n",
    "        return self.prior * leaf.response"
   ]
  },
  {
   "cell_type": "code",
   "execution_count": 38,
   "metadata": {
    "pycharm": {
     "name": "#%%\n"
    }
   },
   "outputs": [],
   "source": [
    "def calc_loo_error(N_m: int, N: int, V_m: float) -> float:\n",
    "    # print()\n",
    "    # print(f'N_m = {N_m}')\n",
    "    # print(f'N = {N}')\n",
    "    # print(f'V_m = {V_m}')\n",
    "    # print(f'-(2 * N_m * (N_m - 1)) = {-(2 * N_m * (N_m - 1))}')\n",
    "    # print(f'(N * (N - 1) * V_m) = {(N * (N - 1) * V_m)}')\n",
    "    # print(f'(N_m ** 2) = {(N_m ** 2)}')\n",
    "    # print(f'((N ** 2) * V_m) = {((N ** 2) * V_m)}')\n",
    "    # print(f'-(2 * N_m * (N_m - 1)) / (N * (N - 1) * V_m) = {-(2 * N_m * (N_m - 1)) / (N * (N - 1) * V_m)}')\n",
    "    # print(f'(N_m ** 2) / ((N ** 2) * V_m) = {(N_m ** 2) / ((N ** 2) * V_m)}')\n",
    "    # print()\n",
    "    return -(2 * N_m * (N_m - 1)) / (N * (N - 1) * V_m) + (N_m ** 2) / ((N ** 2) * V_m)\n",
    "\n",
    "\n",
    "def calc_volume(bounding_box: Tuple[np.ndarray, np.ndarray]):\n",
    "    m, M = bounding_box\n",
    "    return np.prod(M - m)\n",
    "\n",
    "\n",
    "def make_density_split_node(node, N, feature_indices):\n",
    "    '''\n",
    "    node: the node to be split\n",
    "    N:    the total number of training instances for the current class\n",
    "    feature_indices: a numpy array of length 'D_try', containing the feature \n",
    "                     indices to be considered in the present split\n",
    "    '''\n",
    "    n, D = node.data.shape\n",
    "    m, M = node.box\n",
    "\n",
    "    # find best feature j (among 'feature_indices') and best threshold t for the split\n",
    "    e_min = float(\"inf\")\n",
    "    j_min, t_min = 0, 0\n",
    "\n",
    "    volume = calc_volume((m, M))\n",
    "\n",
    "    for j in feature_indices:\n",
    "        # Hint: For each feature considered, first remove duplicate feature values using\n",
    "        # 'np.unique()'. Describe here why this is necessary.\n",
    "\n",
    "        # It's necessary because otherwise if two instances have the same feature value the mean between them is the feature value self so the threshold would not be in the mid between feature values anymore\n",
    "\n",
    "        # np.unique returns an already sorted array\n",
    "        data_unique = np.unique(node.data[:, j])\n",
    "        # Compute candidate thresholds\n",
    "        tj = 0.5 * (data_unique[1:] + data_unique[:-1])\n",
    "\n",
    "        # Illustration: for loop - hint: vectorized version is possible\n",
    "        for t in tj:\n",
    "            # Compute the error\n",
    "            N_l = np.sum(node.data[:, j] <= t)\n",
    "            N_r = n - N_l\n",
    "\n",
    "            l_volume = volume * t / (M[j] - m[j])\n",
    "            r_volume = volume - l_volume\n",
    "\n",
    "            if l_volume != 0 and r_volume != 0:\n",
    "                loo_err_l = calc_loo_error(N_l, N, l_volume)\n",
    "                loo_err_r = calc_loo_error(N_r, N, r_volume)\n",
    "\n",
    "                loo_error = loo_err_l + loo_err_r\n",
    "\n",
    "                # print(f'loo_error: {loo_error}')\n",
    "\n",
    "                # choose the best threshold that\n",
    "                if loo_error < e_min:\n",
    "                    # print(f'e_min: {e_min}, j_min: {j_min}, t_min: {t_min}')\n",
    "                    e_min = loo_error\n",
    "                    j_min = j\n",
    "                    t_min = t\n",
    "\n",
    "    # create children\n",
    "    left = Node()\n",
    "    right = Node()\n",
    "\n",
    "    # initialize 'left' and 'right' with the data subsets and bounding boxes\n",
    "    # according to the optimal split found above\n",
    "    left.data = node.data[node.data[:, j_min] <= t_min, :]  # store data in left node -- for subsequent splits\n",
    "    left.box = m.copy(), M.copy()  # store bounding box in left node\n",
    "    left.box[1][j_min] = t_min\n",
    "    right.data = node.data[node.data[:, j_min] > t_min, :]\n",
    "    right.box = m.copy(), M.copy()\n",
    "    right.box[0][j_min] = t_min\n",
    "\n",
    "    # turn the current 'node' into a split node\n",
    "    # (store children and split condition)\n",
    "    node.left = left\n",
    "    node.right = right\n",
    "    node.feature = j_min\n",
    "    node.threshold = t_min\n",
    "\n",
    "    # return the children (to be placed on the stack)\n",
    "    return left, right"
   ]
  },
  {
   "cell_type": "code",
   "execution_count": 39,
   "metadata": {},
   "outputs": [],
   "source": [
    "def make_density_leaf_node(node, N):\n",
    "    '''\n",
    "    node: the node to become a leaf\n",
    "    N:    the total number of training instances for the current class\n",
    "    '''\n",
    "    # compute and store leaf response\n",
    "    n = node.data.shape[0]\n",
    "    v = calc_volume(node.box)\n",
    "    node.response = n / (N * v)"
   ]
  },
  {
   "cell_type": "markdown",
   "metadata": {},
   "source": [
    "# Decision Tree"
   ]
  },
  {
   "cell_type": "code",
   "execution_count": 40,
   "metadata": {
    "collapsed": true,
    "jupyter": {
     "outputs_hidden": true
    }
   },
   "outputs": [],
   "source": [
    "class DecisionTree(Tree):\n",
    "    def __init__(self):\n",
    "        super(DecisionTree, self).__init__()\n",
    "\n",
    "    def train(self, data, labels, n_min=20):\n",
    "        '''\n",
    "        data: the feature matrix for all digits\n",
    "        labels: the corresponding ground-truth responses\n",
    "        n_min: termination criterion (don't split if a node contains fewer instances)\n",
    "        '''\n",
    "        N, D = data.shape\n",
    "        D_try = int(np.sqrt(D))  # how many features to consider for each split decision\n",
    "\n",
    "        # initialize the root node\n",
    "        self.root.data = data\n",
    "        self.root.labels = labels\n",
    "\n",
    "        stack = [self.root]\n",
    "        while len(stack):\n",
    "            node = stack.pop()\n",
    "            n = node.data.shape[0]  # number of instances in present node\n",
    "            if n >= n_min and not node_is_pure(node):\n",
    "                # Call 'make_decision_split_node()' with 'D_try' randomly selected \n",
    "                # feature indices. This turns 'node' into a split node\n",
    "                # and returns the two children, which must be placed on the 'stack'.\n",
    "                indices = np.random.choice(np.arange(0, D), D_try, False)\n",
    "                left, right = make_decision_split_node(node, indices)\n",
    "                stack.append(left)\n",
    "                stack.append(right)\n",
    "            else:\n",
    "                # Call 'make_decision_leaf_node()' to turn 'node' into a leaf node.\n",
    "                make_decision_leaf_node(node)\n",
    "\n",
    "    def predict(self, x):\n",
    "        leaf = self.find_leaf(x)\n",
    "        # compute p(y | x)\n",
    "        return np.argmax(leaf.response)"
   ]
  },
  {
   "cell_type": "code",
   "execution_count": 41,
   "metadata": {
    "collapsed": true,
    "jupyter": {
     "outputs_hidden": true
    }
   },
   "outputs": [],
   "source": [
    "def calc_gini(N_l_k: np.ndarray, N_l: int) -> float:\n",
    "    return N_l * (1 - np.sum((N_l_k / N_l) ** 2))\n",
    "\n",
    "\n",
    "def calc_N_l_k(node_target: np.ndarray, tresholded_indices: np.ndarray) -> np.ndarray:\n",
    "    return np.bincount(node_target[tresholded_indices], minlength=10)\n",
    "\n",
    "\n",
    "def make_decision_split_node(node, feature_indices):\n",
    "    '''\n",
    "    node: the node to be split\n",
    "    feature_indices: a numpy array of length 'D_try', containing the feature \n",
    "                     indices to be considered in the present split\n",
    "    '''\n",
    "    n, D = node.data.shape\n",
    "\n",
    "    e_min = float('inf')\n",
    "    t_min, j_min = 0, 0\n",
    "\n",
    "    # find best feature j (among 'feature_indices') and best threshold t for the split\n",
    "    for j in feature_indices:\n",
    "        data_unique = np.unique(node.data[:, j])\n",
    "        tj = 0.5 * (data_unique[1:] + data_unique[:-1])\n",
    "\n",
    "        if len(data_unique) > 1:\n",
    "            for t in tj:\n",
    "                indices_l = np.where(node.data[:, j] <= t)\n",
    "                indices_r = np.where(node.data[:, j] > t)\n",
    "\n",
    "                N_l_k_l = calc_N_l_k(node.labels, indices_l)\n",
    "                N_l_k_r = calc_N_l_k(node.labels, indices_r)\n",
    "\n",
    "                N_l_l = len(indices_l)\n",
    "                N_l_r = len(indices_r)\n",
    "\n",
    "                gini_l = calc_gini(N_l_k_l, N_l_l)\n",
    "                gini_r = calc_gini(N_l_k_r, N_l_r)\n",
    "\n",
    "                gini = gini_l + gini_r\n",
    "\n",
    "                if gini < e_min:\n",
    "                    e_min = gini\n",
    "                    t_min = t\n",
    "                    j_min = j\n",
    "\n",
    "    # create children\n",
    "    left = Node()\n",
    "    right = Node()\n",
    "\n",
    "    # initialize 'left' and 'right' with the data subsets and labels\n",
    "    # according to the optimal split found above\n",
    "    indices_l = np.where(node.data[:, j_min] <= t_min)\n",
    "    indices_r = np.where(node.data[:, j_min] > t_min)\n",
    "\n",
    "    left.data = node.data[indices_l]  # data in left node\n",
    "    left.labels = node.labels[indices_l]  # corresponding labels\n",
    "    right.data = node.data[indices_r]\n",
    "    right.labels = node.labels[indices_r]\n",
    "\n",
    "    # if len(left.data) == 0 or len(right.data) == 0:\n",
    "    #     print('Data empty')\n",
    "\n",
    "    # turn the current 'node' into a split node\n",
    "    # (store children and split condition)\n",
    "    node.left = left\n",
    "    node.right = right\n",
    "    node.feature = j_min\n",
    "    node.threshold = t_min\n",
    "\n",
    "    # return the children (to be placed on the stack)\n",
    "    return left, right"
   ]
  },
  {
   "cell_type": "code",
   "execution_count": 42,
   "metadata": {
    "collapsed": true,
    "jupyter": {
     "outputs_hidden": true
    }
   },
   "outputs": [],
   "source": [
    "def make_decision_leaf_node(node):\n",
    "    '''\n",
    "    node: the node to become a leaf\n",
    "    '''\n",
    "    # compute and store leaf response\n",
    "    node.N = len(node.labels)\n",
    "    node.response = np.bincount(node.labels, minlength=10) / node.N"
   ]
  },
  {
   "cell_type": "code",
   "execution_count": 43,
   "metadata": {
    "collapsed": true,
    "jupyter": {
     "outputs_hidden": true
    }
   },
   "outputs": [],
   "source": [
    "def node_is_pure(node):\n",
    "    '''\n",
    "    check if 'node' ontains only instances of the same digit\n",
    "    '''\n",
    "    return len(np.unique(node.labels)) <= 1"
   ]
  },
  {
   "cell_type": "markdown",
   "metadata": {},
   "source": [
    "# Evaluation of Density and Decision Tree\n",
    "Below we first load the dataset and reduce the dimensions to the dimensions with actual information in it (deleting the features with variance 0, because if every datapoint has the same value in one feature, the feature does not carry any information)\n"
   ]
  },
  {
   "cell_type": "code",
   "execution_count": 44,
   "metadata": {
    "collapsed": true,
    "jupyter": {
     "outputs_hidden": true
    }
   },
   "outputs": [
    {
     "name": "stdout",
     "output_type": "stream",
     "text": [
      "(64,)\n",
      "[ 1  2  3  4  5  6  7  8  9 10 11 12 13 14 15 16 17 18 19 20 21 22 23 24\n",
      " 25 26 27 28 29 30 31 33 34 35 36 37 38 40 41 42 43 44 45 46 47 48 49 50\n",
      " 51 52 53 54 55 56 57 58 59 60 61 62 63]\n",
      "(1797, 61)\n"
     ]
    }
   ],
   "source": [
    "# read and prepare the digits data\n",
    "from sklearn.datasets import load_digits\n",
    "\n",
    "digits = load_digits()\n",
    "\n",
    "data = digits[\"data\"]\n",
    "images = digits[\"images\"]\n",
    "target = digits[\"target\"]\n",
    "target_names = digits[\"target_names\"]\n",
    "\n",
    "# Removing features where min value == max value == 0, because this feature does not contain any information (it's the same for all instances)\n",
    "smallest, biggest = calc_bbox(data)\n",
    "distances = biggest - smallest\n",
    "print(distances.shape)\n",
    "\n",
    "dims_with_information = np.where(distances > 0)[0]\n",
    "print(dims_with_information)\n",
    "\n",
    "data = data[:, dims_with_information]\n",
    "print(data.shape)"
   ]
  },
  {
   "cell_type": "markdown",
   "source": [
    "Afterwards we define a function to calculate the confusion matrix from  $\\hat{y}$ and $y*$ by comparing the expected y's per class with the calculated y's then bin counting that for each column in the confusion matrix."
   ],
   "metadata": {
    "collapsed": false,
    "pycharm": {
     "name": "#%% md\n"
    }
   }
  },
  {
   "cell_type": "code",
   "execution_count": 45,
   "metadata": {
    "collapsed": true,
    "jupyter": {
     "outputs_hidden": true
    },
    "pycharm": {
     "name": "#%%\n"
    }
   },
   "outputs": [],
   "source": [
    "# train trees, plot training error confusion matrices, and comment on your results\n",
    "\n",
    "def calc_confusion_matrix(calculated_target, expected) -> pd.DataFrame:\n",
    "    matrix = np.zeros((10, 10))\n",
    "    matrix_dict = {}\n",
    "    for expected_num in range(10):\n",
    "        expected_indices = np.where(expected == expected_num)[0]\n",
    "        calculated_values = calculated_target[expected_indices]\n",
    "        calc_bins = np.bincount(calculated_values, minlength=10)\n",
    "        matrix[expected_num] = calc_bins / len(expected_indices)\n",
    "        matrix_dict[expected_num] = calc_bins / len(expected_indices)\n",
    "\n",
    "    data_frame = pd.DataFrame(matrix_dict)\n",
    "    data_frame.columns.name = 'actual/expected'\n",
    "    return data_frame\n"
   ]
  },
  {
   "cell_type": "markdown",
   "source": [
    "Then we define a function that plots us the error per n_min for the different classifiers."
   ],
   "metadata": {
    "collapsed": false
   }
  },
  {
   "cell_type": "code",
   "execution_count": 46,
   "outputs": [],
   "source": [
    "def show_plot(errors: np.ndarray, n_mins: np.ndarray):\n",
    "    x = range(len(n_mins))\n",
    "    x_ticks = np.arange(len(n_mins))\n",
    "    fig, ax = plt.subplots()\n",
    "    ax.bar(x, errors)\n",
    "    ax.set_xticks(x_ticks)\n",
    "    ax.set_xticklabels(n_mins)\n",
    "    plt.show()\n"
   ],
   "metadata": {
    "collapsed": false,
    "pycharm": {
     "name": "#%%\n"
    }
   }
  },
  {
   "cell_type": "markdown",
   "source": [
    "Then we create a one function for training and testing the generative classifier and one for the discriminative classifier.\n",
    "For training and testing the generative classifier, we first train each of the classifiers independently for exactly one class. Therefore we filter our test data for this class and then pass the filtered data and the calculated prior to the train function of the classifier.\n",
    "Afterwards we test by calculating the probability for each data point per classifier the classifier with the highest probability wins and determines which class the datapoint belongs to. With the results we then calculate the error and the confusion matrix.\n",
    "\n",
    "For the discriminative classifier we only have one instance which returns the class with the highest probability. We train the classifier with the data, predict afterwards each class per datapoint and then generate the confusion matrix and error rate out of it."
   ],
   "metadata": {
    "collapsed": false
   }
  },
  {
   "cell_type": "code",
   "execution_count": 47,
   "outputs": [],
   "source": [
    "def train_test_generative_classifier(generative_classifiers, n_min) -> float:\n",
    "    assert len(generative_classifiers) == 10\n",
    "    for number, density_tree in enumerate(generative_classifiers):\n",
    "        indices = np.where(target == number)\n",
    "        filtered_data = data[indices]\n",
    "        prior = len(filtered_data) / len(data)\n",
    "\n",
    "        density_tree.train(filtered_data, prior, n_min)\n",
    "\n",
    "    calculated_target = np.zeros(len(target), dtype=int)\n",
    "\n",
    "    for i, instance in enumerate(data):\n",
    "        p_max = -1\n",
    "        num_max = -1\n",
    "        for number, tree in enumerate(generative_classifiers):\n",
    "            p = tree.predict(instance)\n",
    "            if p > p_max:\n",
    "                p_max = p\n",
    "                num_max = number\n",
    "        calculated_target[i] = num_max\n",
    "\n",
    "    # print(target)\n",
    "    # print(calculated_target)\n",
    "    density_tree_err = calculated_target != target\n",
    "    # print(density_tree_err)\n",
    "\n",
    "    density_tree_err_rate = np.sum(density_tree_err) / len(target)\n",
    "    confusion_matrix = calc_confusion_matrix(calculated_target, target)\n",
    "    print(f'Error rate: {density_tree_err_rate}')\n",
    "    print('Confusion matrix:')\n",
    "    display(confusion_matrix)\n",
    "\n",
    "    return density_tree_err_rate\n",
    "\n",
    "\n",
    "def train_test_discriminative_classifier(discriminative_classifier, n_min) -> float:\n",
    "    discriminative_classifier.train(data, target, n_min)\n",
    "\n",
    "    calculated_target = np.array([discriminative_classifier.predict(instance) for instance in data], dtype=int)\n",
    "\n",
    "    decision_tree_err = calculated_target != target\n",
    "    # print(decision_tree_err)\n",
    "\n",
    "    decision_tree_err_rate = np.sum(decision_tree_err) / len(target)\n",
    "    confusion_matrix = calc_confusion_matrix(calculated_target, target)\n",
    "    print(f'Error rate: {decision_tree_err_rate}')\n",
    "    print('Confusion matrix:')\n",
    "    display(confusion_matrix)\n",
    "\n",
    "    return decision_tree_err_rate\n"
   ],
   "metadata": {
    "collapsed": false,
    "pycharm": {
     "name": "#%%\n"
    }
   }
  },
  {
   "cell_type": "markdown",
   "source": [
    "The actual execution of the train and test methods from above is done in the train_test methods which accepts as first two parameters factory methods for creating new generative and discriminative classifiers. This is used for reusing the function for the forests.\n",
    "The two second parameters are arrays of n_min values for the two different classifier types which shall be trained and tested.\n",
    "The function itself just iterates ovet the n_mins for both the generative and discriminative classifiers and execute their respective train and test function from above."
   ],
   "metadata": {
    "collapsed": false
   }
  },
  {
   "cell_type": "code",
   "execution_count": 48,
   "outputs": [
    {
     "name": "stdout",
     "output_type": "stream",
     "text": [
      "Generative classifier:\n",
      "n_min: 20\n",
      "Error rate: 0.2036727879799666\n",
      "Confusion matrix:\n"
     ]
    },
    {
     "data": {
      "text/plain": "actual/expected         0         1         2         3         4         5  \\\n0                0.983146  0.000000  0.000000  0.000000  0.000000  0.000000   \n1                0.000000  0.785714  0.112994  0.032787  0.016575  0.027473   \n2                0.000000  0.076923  0.677966  0.038251  0.000000  0.005495   \n3                0.000000  0.000000  0.022599  0.633880  0.000000  0.104396   \n4                0.016854  0.049451  0.000000  0.000000  0.850829  0.000000   \n5                0.000000  0.000000  0.022599  0.016393  0.011050  0.708791   \n6                0.000000  0.000000  0.000000  0.000000  0.000000  0.000000   \n7                0.000000  0.005495  0.000000  0.016393  0.116022  0.065934   \n8                0.000000  0.082418  0.163842  0.256831  0.005525  0.082418   \n9                0.000000  0.000000  0.000000  0.005464  0.000000  0.005495   \n\nactual/expected        6         7         8         9  \n0                0.00000  0.000000  0.000000  0.000000  \n1                0.01105  0.000000  0.120690  0.022222  \n2                0.00000  0.000000  0.011494  0.011111  \n3                0.00000  0.005587  0.005747  0.200000  \n4                0.00000  0.011173  0.005747  0.033333  \n5                0.00000  0.000000  0.011494  0.016667  \n6                0.98895  0.000000  0.000000  0.000000  \n7                0.00000  0.977654  0.011494  0.066667  \n8                0.00000  0.005587  0.833333  0.122222  \n9                0.00000  0.000000  0.000000  0.527778  ",
      "text/html": "<div>\n<style scoped>\n    .dataframe tbody tr th:only-of-type {\n        vertical-align: middle;\n    }\n\n    .dataframe tbody tr th {\n        vertical-align: top;\n    }\n\n    .dataframe thead th {\n        text-align: right;\n    }\n</style>\n<table border=\"1\" class=\"dataframe\">\n  <thead>\n    <tr style=\"text-align: right;\">\n      <th>actual/expected</th>\n      <th>0</th>\n      <th>1</th>\n      <th>2</th>\n      <th>3</th>\n      <th>4</th>\n      <th>5</th>\n      <th>6</th>\n      <th>7</th>\n      <th>8</th>\n      <th>9</th>\n    </tr>\n  </thead>\n  <tbody>\n    <tr>\n      <th>0</th>\n      <td>0.983146</td>\n      <td>0.000000</td>\n      <td>0.000000</td>\n      <td>0.000000</td>\n      <td>0.000000</td>\n      <td>0.000000</td>\n      <td>0.00000</td>\n      <td>0.000000</td>\n      <td>0.000000</td>\n      <td>0.000000</td>\n    </tr>\n    <tr>\n      <th>1</th>\n      <td>0.000000</td>\n      <td>0.785714</td>\n      <td>0.112994</td>\n      <td>0.032787</td>\n      <td>0.016575</td>\n      <td>0.027473</td>\n      <td>0.01105</td>\n      <td>0.000000</td>\n      <td>0.120690</td>\n      <td>0.022222</td>\n    </tr>\n    <tr>\n      <th>2</th>\n      <td>0.000000</td>\n      <td>0.076923</td>\n      <td>0.677966</td>\n      <td>0.038251</td>\n      <td>0.000000</td>\n      <td>0.005495</td>\n      <td>0.00000</td>\n      <td>0.000000</td>\n      <td>0.011494</td>\n      <td>0.011111</td>\n    </tr>\n    <tr>\n      <th>3</th>\n      <td>0.000000</td>\n      <td>0.000000</td>\n      <td>0.022599</td>\n      <td>0.633880</td>\n      <td>0.000000</td>\n      <td>0.104396</td>\n      <td>0.00000</td>\n      <td>0.005587</td>\n      <td>0.005747</td>\n      <td>0.200000</td>\n    </tr>\n    <tr>\n      <th>4</th>\n      <td>0.016854</td>\n      <td>0.049451</td>\n      <td>0.000000</td>\n      <td>0.000000</td>\n      <td>0.850829</td>\n      <td>0.000000</td>\n      <td>0.00000</td>\n      <td>0.011173</td>\n      <td>0.005747</td>\n      <td>0.033333</td>\n    </tr>\n    <tr>\n      <th>5</th>\n      <td>0.000000</td>\n      <td>0.000000</td>\n      <td>0.022599</td>\n      <td>0.016393</td>\n      <td>0.011050</td>\n      <td>0.708791</td>\n      <td>0.00000</td>\n      <td>0.000000</td>\n      <td>0.011494</td>\n      <td>0.016667</td>\n    </tr>\n    <tr>\n      <th>6</th>\n      <td>0.000000</td>\n      <td>0.000000</td>\n      <td>0.000000</td>\n      <td>0.000000</td>\n      <td>0.000000</td>\n      <td>0.000000</td>\n      <td>0.98895</td>\n      <td>0.000000</td>\n      <td>0.000000</td>\n      <td>0.000000</td>\n    </tr>\n    <tr>\n      <th>7</th>\n      <td>0.000000</td>\n      <td>0.005495</td>\n      <td>0.000000</td>\n      <td>0.016393</td>\n      <td>0.116022</td>\n      <td>0.065934</td>\n      <td>0.00000</td>\n      <td>0.977654</td>\n      <td>0.011494</td>\n      <td>0.066667</td>\n    </tr>\n    <tr>\n      <th>8</th>\n      <td>0.000000</td>\n      <td>0.082418</td>\n      <td>0.163842</td>\n      <td>0.256831</td>\n      <td>0.005525</td>\n      <td>0.082418</td>\n      <td>0.00000</td>\n      <td>0.005587</td>\n      <td>0.833333</td>\n      <td>0.122222</td>\n    </tr>\n    <tr>\n      <th>9</th>\n      <td>0.000000</td>\n      <td>0.000000</td>\n      <td>0.000000</td>\n      <td>0.005464</td>\n      <td>0.000000</td>\n      <td>0.005495</td>\n      <td>0.00000</td>\n      <td>0.000000</td>\n      <td>0.000000</td>\n      <td>0.527778</td>\n    </tr>\n  </tbody>\n</table>\n</div>"
     },
     "metadata": {},
     "output_type": "display_data"
    },
    {
     "name": "stdout",
     "output_type": "stream",
     "text": [
      "n_min: 10\n",
      "Error rate: 0.19810795770728992\n",
      "Confusion matrix:\n"
     ]
    },
    {
     "data": {
      "text/plain": "actual/expected    0         1         2         3         4         5  \\\n0                1.0  0.000000  0.000000  0.000000  0.000000  0.000000   \n1                0.0  0.725275  0.016949  0.000000  0.011050  0.000000   \n2                0.0  0.043956  0.570621  0.027322  0.000000  0.000000   \n3                0.0  0.000000  0.050847  0.546448  0.000000  0.021978   \n4                0.0  0.032967  0.000000  0.000000  0.834254  0.005495   \n5                0.0  0.005495  0.000000  0.038251  0.016575  0.802198   \n6                0.0  0.000000  0.000000  0.000000  0.000000  0.000000   \n7                0.0  0.027473  0.000000  0.016393  0.110497  0.032967   \n8                0.0  0.131868  0.350282  0.158470  0.005525  0.098901   \n9                0.0  0.032967  0.011299  0.213115  0.022099  0.038462   \n\nactual/expected         6         7         8         9  \n0                0.000000  0.000000  0.000000  0.000000  \n1                0.005525  0.000000  0.034483  0.011111  \n2                0.000000  0.000000  0.017241  0.011111  \n3                0.000000  0.000000  0.000000  0.094444  \n4                0.000000  0.005587  0.000000  0.027778  \n5                0.000000  0.005587  0.000000  0.033333  \n6                0.994475  0.000000  0.000000  0.000000  \n7                0.000000  0.977654  0.022989  0.055556  \n8                0.000000  0.000000  0.890805  0.083333  \n9                0.000000  0.011173  0.034483  0.683333  ",
      "text/html": "<div>\n<style scoped>\n    .dataframe tbody tr th:only-of-type {\n        vertical-align: middle;\n    }\n\n    .dataframe tbody tr th {\n        vertical-align: top;\n    }\n\n    .dataframe thead th {\n        text-align: right;\n    }\n</style>\n<table border=\"1\" class=\"dataframe\">\n  <thead>\n    <tr style=\"text-align: right;\">\n      <th>actual/expected</th>\n      <th>0</th>\n      <th>1</th>\n      <th>2</th>\n      <th>3</th>\n      <th>4</th>\n      <th>5</th>\n      <th>6</th>\n      <th>7</th>\n      <th>8</th>\n      <th>9</th>\n    </tr>\n  </thead>\n  <tbody>\n    <tr>\n      <th>0</th>\n      <td>1.0</td>\n      <td>0.000000</td>\n      <td>0.000000</td>\n      <td>0.000000</td>\n      <td>0.000000</td>\n      <td>0.000000</td>\n      <td>0.000000</td>\n      <td>0.000000</td>\n      <td>0.000000</td>\n      <td>0.000000</td>\n    </tr>\n    <tr>\n      <th>1</th>\n      <td>0.0</td>\n      <td>0.725275</td>\n      <td>0.016949</td>\n      <td>0.000000</td>\n      <td>0.011050</td>\n      <td>0.000000</td>\n      <td>0.005525</td>\n      <td>0.000000</td>\n      <td>0.034483</td>\n      <td>0.011111</td>\n    </tr>\n    <tr>\n      <th>2</th>\n      <td>0.0</td>\n      <td>0.043956</td>\n      <td>0.570621</td>\n      <td>0.027322</td>\n      <td>0.000000</td>\n      <td>0.000000</td>\n      <td>0.000000</td>\n      <td>0.000000</td>\n      <td>0.017241</td>\n      <td>0.011111</td>\n    </tr>\n    <tr>\n      <th>3</th>\n      <td>0.0</td>\n      <td>0.000000</td>\n      <td>0.050847</td>\n      <td>0.546448</td>\n      <td>0.000000</td>\n      <td>0.021978</td>\n      <td>0.000000</td>\n      <td>0.000000</td>\n      <td>0.000000</td>\n      <td>0.094444</td>\n    </tr>\n    <tr>\n      <th>4</th>\n      <td>0.0</td>\n      <td>0.032967</td>\n      <td>0.000000</td>\n      <td>0.000000</td>\n      <td>0.834254</td>\n      <td>0.005495</td>\n      <td>0.000000</td>\n      <td>0.005587</td>\n      <td>0.000000</td>\n      <td>0.027778</td>\n    </tr>\n    <tr>\n      <th>5</th>\n      <td>0.0</td>\n      <td>0.005495</td>\n      <td>0.000000</td>\n      <td>0.038251</td>\n      <td>0.016575</td>\n      <td>0.802198</td>\n      <td>0.000000</td>\n      <td>0.005587</td>\n      <td>0.000000</td>\n      <td>0.033333</td>\n    </tr>\n    <tr>\n      <th>6</th>\n      <td>0.0</td>\n      <td>0.000000</td>\n      <td>0.000000</td>\n      <td>0.000000</td>\n      <td>0.000000</td>\n      <td>0.000000</td>\n      <td>0.994475</td>\n      <td>0.000000</td>\n      <td>0.000000</td>\n      <td>0.000000</td>\n    </tr>\n    <tr>\n      <th>7</th>\n      <td>0.0</td>\n      <td>0.027473</td>\n      <td>0.000000</td>\n      <td>0.016393</td>\n      <td>0.110497</td>\n      <td>0.032967</td>\n      <td>0.000000</td>\n      <td>0.977654</td>\n      <td>0.022989</td>\n      <td>0.055556</td>\n    </tr>\n    <tr>\n      <th>8</th>\n      <td>0.0</td>\n      <td>0.131868</td>\n      <td>0.350282</td>\n      <td>0.158470</td>\n      <td>0.005525</td>\n      <td>0.098901</td>\n      <td>0.000000</td>\n      <td>0.000000</td>\n      <td>0.890805</td>\n      <td>0.083333</td>\n    </tr>\n    <tr>\n      <th>9</th>\n      <td>0.0</td>\n      <td>0.032967</td>\n      <td>0.011299</td>\n      <td>0.213115</td>\n      <td>0.022099</td>\n      <td>0.038462</td>\n      <td>0.000000</td>\n      <td>0.011173</td>\n      <td>0.034483</td>\n      <td>0.683333</td>\n    </tr>\n  </tbody>\n</table>\n</div>"
     },
     "metadata": {},
     "output_type": "display_data"
    },
    {
     "name": "stdout",
     "output_type": "stream",
     "text": [
      "n_min: 5\n",
      "Error rate: 0.15859766277128548\n",
      "Confusion matrix:\n"
     ]
    },
    {
     "data": {
      "text/plain": "actual/expected         0         1         2         3         4         5  \\\n0                0.994382  0.000000  0.000000  0.000000  0.000000  0.000000   \n1                0.000000  0.769231  0.039548  0.005464  0.011050  0.005495   \n2                0.000000  0.093407  0.847458  0.114754  0.000000  0.005495   \n3                0.000000  0.000000  0.016949  0.732240  0.000000  0.093407   \n4                0.005618  0.021978  0.000000  0.000000  0.939227  0.005495   \n5                0.000000  0.010989  0.000000  0.000000  0.000000  0.813187   \n6                0.000000  0.000000  0.000000  0.000000  0.000000  0.000000   \n7                0.000000  0.027473  0.000000  0.010929  0.044199  0.027473   \n8                0.000000  0.076923  0.096045  0.109290  0.005525  0.043956   \n9                0.000000  0.000000  0.000000  0.027322  0.000000  0.005495   \n\nactual/expected         6         7         8         9  \n0                0.000000  0.000000  0.000000  0.000000  \n1                0.000000  0.000000  0.040230  0.016667  \n2                0.005525  0.000000  0.097701  0.016667  \n3                0.000000  0.000000  0.011494  0.233333  \n4                0.000000  0.011173  0.005747  0.033333  \n5                0.005525  0.000000  0.011494  0.005556  \n6                0.988950  0.000000  0.000000  0.000000  \n7                0.000000  0.983240  0.040230  0.044444  \n8                0.000000  0.000000  0.793103  0.094444  \n9                0.000000  0.005587  0.000000  0.555556  ",
      "text/html": "<div>\n<style scoped>\n    .dataframe tbody tr th:only-of-type {\n        vertical-align: middle;\n    }\n\n    .dataframe tbody tr th {\n        vertical-align: top;\n    }\n\n    .dataframe thead th {\n        text-align: right;\n    }\n</style>\n<table border=\"1\" class=\"dataframe\">\n  <thead>\n    <tr style=\"text-align: right;\">\n      <th>actual/expected</th>\n      <th>0</th>\n      <th>1</th>\n      <th>2</th>\n      <th>3</th>\n      <th>4</th>\n      <th>5</th>\n      <th>6</th>\n      <th>7</th>\n      <th>8</th>\n      <th>9</th>\n    </tr>\n  </thead>\n  <tbody>\n    <tr>\n      <th>0</th>\n      <td>0.994382</td>\n      <td>0.000000</td>\n      <td>0.000000</td>\n      <td>0.000000</td>\n      <td>0.000000</td>\n      <td>0.000000</td>\n      <td>0.000000</td>\n      <td>0.000000</td>\n      <td>0.000000</td>\n      <td>0.000000</td>\n    </tr>\n    <tr>\n      <th>1</th>\n      <td>0.000000</td>\n      <td>0.769231</td>\n      <td>0.039548</td>\n      <td>0.005464</td>\n      <td>0.011050</td>\n      <td>0.005495</td>\n      <td>0.000000</td>\n      <td>0.000000</td>\n      <td>0.040230</td>\n      <td>0.016667</td>\n    </tr>\n    <tr>\n      <th>2</th>\n      <td>0.000000</td>\n      <td>0.093407</td>\n      <td>0.847458</td>\n      <td>0.114754</td>\n      <td>0.000000</td>\n      <td>0.005495</td>\n      <td>0.005525</td>\n      <td>0.000000</td>\n      <td>0.097701</td>\n      <td>0.016667</td>\n    </tr>\n    <tr>\n      <th>3</th>\n      <td>0.000000</td>\n      <td>0.000000</td>\n      <td>0.016949</td>\n      <td>0.732240</td>\n      <td>0.000000</td>\n      <td>0.093407</td>\n      <td>0.000000</td>\n      <td>0.000000</td>\n      <td>0.011494</td>\n      <td>0.233333</td>\n    </tr>\n    <tr>\n      <th>4</th>\n      <td>0.005618</td>\n      <td>0.021978</td>\n      <td>0.000000</td>\n      <td>0.000000</td>\n      <td>0.939227</td>\n      <td>0.005495</td>\n      <td>0.000000</td>\n      <td>0.011173</td>\n      <td>0.005747</td>\n      <td>0.033333</td>\n    </tr>\n    <tr>\n      <th>5</th>\n      <td>0.000000</td>\n      <td>0.010989</td>\n      <td>0.000000</td>\n      <td>0.000000</td>\n      <td>0.000000</td>\n      <td>0.813187</td>\n      <td>0.005525</td>\n      <td>0.000000</td>\n      <td>0.011494</td>\n      <td>0.005556</td>\n    </tr>\n    <tr>\n      <th>6</th>\n      <td>0.000000</td>\n      <td>0.000000</td>\n      <td>0.000000</td>\n      <td>0.000000</td>\n      <td>0.000000</td>\n      <td>0.000000</td>\n      <td>0.988950</td>\n      <td>0.000000</td>\n      <td>0.000000</td>\n      <td>0.000000</td>\n    </tr>\n    <tr>\n      <th>7</th>\n      <td>0.000000</td>\n      <td>0.027473</td>\n      <td>0.000000</td>\n      <td>0.010929</td>\n      <td>0.044199</td>\n      <td>0.027473</td>\n      <td>0.000000</td>\n      <td>0.983240</td>\n      <td>0.040230</td>\n      <td>0.044444</td>\n    </tr>\n    <tr>\n      <th>8</th>\n      <td>0.000000</td>\n      <td>0.076923</td>\n      <td>0.096045</td>\n      <td>0.109290</td>\n      <td>0.005525</td>\n      <td>0.043956</td>\n      <td>0.000000</td>\n      <td>0.000000</td>\n      <td>0.793103</td>\n      <td>0.094444</td>\n    </tr>\n    <tr>\n      <th>9</th>\n      <td>0.000000</td>\n      <td>0.000000</td>\n      <td>0.000000</td>\n      <td>0.027322</td>\n      <td>0.000000</td>\n      <td>0.005495</td>\n      <td>0.000000</td>\n      <td>0.005587</td>\n      <td>0.000000</td>\n      <td>0.555556</td>\n    </tr>\n  </tbody>\n</table>\n</div>"
     },
     "metadata": {},
     "output_type": "display_data"
    },
    {
     "data": {
      "text/plain": "<Figure size 432x288 with 1 Axes>",
      "image/png": "[encoded data removed]"
     },
     "metadata": {
      "needs_background": "light"
     },
     "output_type": "display_data"
    },
    {
     "name": "stdout",
     "output_type": "stream",
     "text": [
      "\n",
      "Discriminative classifier:\n",
      "n_min: 20\n",
      "Error rate: 0.31886477462437396\n",
      "Confusion matrix:\n"
     ]
    },
    {
     "data": {
      "text/plain": "actual/expected         0         1         2         3         4         5  \\\n0                0.814607  0.000000  0.016949  0.005464  0.016575  0.000000   \n1                0.005618  0.884615  0.050847  0.010929  0.060773  0.032967   \n2                0.011236  0.000000  0.598870  0.054645  0.005525  0.027473   \n3                0.005618  0.027473  0.090395  0.633880  0.005525  0.126374   \n4                0.011236  0.000000  0.011299  0.010929  0.762431  0.038462   \n5                0.005618  0.010989  0.135593  0.109290  0.011050  0.648352   \n6                0.022472  0.038462  0.045198  0.098361  0.022099  0.027473   \n7                0.056180  0.010989  0.000000  0.032787  0.088398  0.060440   \n8                0.028090  0.005495  0.033898  0.027322  0.016575  0.010989   \n9                0.039326  0.021978  0.016949  0.016393  0.011050  0.027473   \n\nactual/expected         6         7         8         9  \n0                0.005525  0.022346  0.028736  0.038889  \n1                0.022099  0.027933  0.109195  0.061111  \n2                0.011050  0.000000  0.097701  0.077778  \n3                0.016575  0.022346  0.103448  0.111111  \n4                0.005525  0.100559  0.000000  0.027778  \n5                0.011050  0.050279  0.086207  0.066667  \n6                0.906077  0.005587  0.091954  0.094444  \n7                0.000000  0.731844  0.017241  0.066667  \n8                0.005525  0.000000  0.425287  0.061111  \n9                0.016575  0.039106  0.040230  0.394444  ",
      "text/html": "<div>\n<style scoped>\n    .dataframe tbody tr th:only-of-type {\n        vertical-align: middle;\n    }\n\n    .dataframe tbody tr th {\n        vertical-align: top;\n    }\n\n    .dataframe thead th {\n        text-align: right;\n    }\n</style>\n<table border=\"1\" class=\"dataframe\">\n  <thead>\n    <tr style=\"text-align: right;\">\n      <th>actual/expected</th>\n      <th>0</th>\n      <th>1</th>\n      <th>2</th>\n      <th>3</th>\n      <th>4</th>\n      <th>5</th>\n      <th>6</th>\n      <th>7</th>\n      <th>8</th>\n      <th>9</th>\n    </tr>\n  </thead>\n  <tbody>\n    <tr>\n      <th>0</th>\n      <td>0.814607</td>\n      <td>0.000000</td>\n      <td>0.016949</td>\n      <td>0.005464</td>\n      <td>0.016575</td>\n      <td>0.000000</td>\n      <td>0.005525</td>\n      <td>0.022346</td>\n      <td>0.028736</td>\n      <td>0.038889</td>\n    </tr>\n    <tr>\n      <th>1</th>\n      <td>0.005618</td>\n      <td>0.884615</td>\n      <td>0.050847</td>\n      <td>0.010929</td>\n      <td>0.060773</td>\n      <td>0.032967</td>\n      <td>0.022099</td>\n      <td>0.027933</td>\n      <td>0.109195</td>\n      <td>0.061111</td>\n    </tr>\n    <tr>\n      <th>2</th>\n      <td>0.011236</td>\n      <td>0.000000</td>\n      <td>0.598870</td>\n      <td>0.054645</td>\n      <td>0.005525</td>\n      <td>0.027473</td>\n      <td>0.011050</td>\n      <td>0.000000</td>\n      <td>0.097701</td>\n      <td>0.077778</td>\n    </tr>\n    <tr>\n      <th>3</th>\n      <td>0.005618</td>\n      <td>0.027473</td>\n      <td>0.090395</td>\n      <td>0.633880</td>\n      <td>0.005525</td>\n      <td>0.126374</td>\n      <td>0.016575</td>\n      <td>0.022346</td>\n      <td>0.103448</td>\n      <td>0.111111</td>\n    </tr>\n    <tr>\n      <th>4</th>\n      <td>0.011236</td>\n      <td>0.000000</td>\n      <td>0.011299</td>\n      <td>0.010929</td>\n      <td>0.762431</td>\n      <td>0.038462</td>\n      <td>0.005525</td>\n      <td>0.100559</td>\n      <td>0.000000</td>\n      <td>0.027778</td>\n    </tr>\n    <tr>\n      <th>5</th>\n      <td>0.005618</td>\n      <td>0.010989</td>\n      <td>0.135593</td>\n      <td>0.109290</td>\n      <td>0.011050</td>\n      <td>0.648352</td>\n      <td>0.011050</td>\n      <td>0.050279</td>\n      <td>0.086207</td>\n      <td>0.066667</td>\n    </tr>\n    <tr>\n      <th>6</th>\n      <td>0.022472</td>\n      <td>0.038462</td>\n      <td>0.045198</td>\n      <td>0.098361</td>\n      <td>0.022099</td>\n      <td>0.027473</td>\n      <td>0.906077</td>\n      <td>0.005587</td>\n      <td>0.091954</td>\n      <td>0.094444</td>\n    </tr>\n    <tr>\n      <th>7</th>\n      <td>0.056180</td>\n      <td>0.010989</td>\n      <td>0.000000</td>\n      <td>0.032787</td>\n      <td>0.088398</td>\n      <td>0.060440</td>\n      <td>0.000000</td>\n      <td>0.731844</td>\n      <td>0.017241</td>\n      <td>0.066667</td>\n    </tr>\n    <tr>\n      <th>8</th>\n      <td>0.028090</td>\n      <td>0.005495</td>\n      <td>0.033898</td>\n      <td>0.027322</td>\n      <td>0.016575</td>\n      <td>0.010989</td>\n      <td>0.005525</td>\n      <td>0.000000</td>\n      <td>0.425287</td>\n      <td>0.061111</td>\n    </tr>\n    <tr>\n      <th>9</th>\n      <td>0.039326</td>\n      <td>0.021978</td>\n      <td>0.016949</td>\n      <td>0.016393</td>\n      <td>0.011050</td>\n      <td>0.027473</td>\n      <td>0.016575</td>\n      <td>0.039106</td>\n      <td>0.040230</td>\n      <td>0.394444</td>\n    </tr>\n  </tbody>\n</table>\n</div>"
     },
     "metadata": {},
     "output_type": "display_data"
    },
    {
     "name": "stdout",
     "output_type": "stream",
     "text": [
      "n_min: 10\n",
      "Error rate: 0.19365609348914858\n",
      "Confusion matrix:\n"
     ]
    },
    {
     "data": {
      "text/plain": "actual/expected         0         1         2         3         4         5  \\\n0                0.966292  0.000000  0.000000  0.005464  0.016575  0.005495   \n1                0.000000  0.917582  0.056497  0.027322  0.005525  0.038462   \n2                0.000000  0.027473  0.768362  0.071038  0.016575  0.016484   \n3                0.005618  0.005495  0.056497  0.721311  0.005525  0.005495   \n4                0.016854  0.010989  0.016949  0.010929  0.895028  0.016484   \n5                0.000000  0.000000  0.045198  0.016393  0.016575  0.884615   \n6                0.005618  0.000000  0.011299  0.016393  0.000000  0.000000   \n7                0.000000  0.016484  0.000000  0.010929  0.027624  0.021978   \n8                0.005618  0.010989  0.016949  0.032787  0.005525  0.005495   \n9                0.000000  0.010989  0.028249  0.087432  0.011050  0.005495   \n\nactual/expected         6         7         8         9  \n0                0.000000  0.011173  0.017241  0.022222  \n1                0.011050  0.072626  0.097701  0.038889  \n2                0.000000  0.011173  0.097701  0.061111  \n3                0.044199  0.027933  0.091954  0.088889  \n4                0.000000  0.055866  0.017241  0.011111  \n5                0.000000  0.016760  0.022989  0.005556  \n6                0.944751  0.000000  0.000000  0.005556  \n7                0.000000  0.782123  0.028736  0.055556  \n8                0.000000  0.005587  0.534483  0.072222  \n9                0.000000  0.016760  0.091954  0.638889  ",
      "text/html": "<div>\n<style scoped>\n    .dataframe tbody tr th:only-of-type {\n        vertical-align: middle;\n    }\n\n    .dataframe tbody tr th {\n        vertical-align: top;\n    }\n\n    .dataframe thead th {\n        text-align: right;\n    }\n</style>\n<table border=\"1\" class=\"dataframe\">\n  <thead>\n    <tr style=\"text-align: right;\">\n      <th>actual/expected</th>\n      <th>0</th>\n      <th>1</th>\n      <th>2</th>\n      <th>3</th>\n      <th>4</th>\n      <th>5</th>\n      <th>6</th>\n      <th>7</th>\n      <th>8</th>\n      <th>9</th>\n    </tr>\n  </thead>\n  <tbody>\n    <tr>\n      <th>0</th>\n      <td>0.966292</td>\n      <td>0.000000</td>\n      <td>0.000000</td>\n      <td>0.005464</td>\n      <td>0.016575</td>\n      <td>0.005495</td>\n      <td>0.000000</td>\n      <td>0.011173</td>\n      <td>0.017241</td>\n      <td>0.022222</td>\n    </tr>\n    <tr>\n      <th>1</th>\n      <td>0.000000</td>\n      <td>0.917582</td>\n      <td>0.056497</td>\n      <td>0.027322</td>\n      <td>0.005525</td>\n      <td>0.038462</td>\n      <td>0.011050</td>\n      <td>0.072626</td>\n      <td>0.097701</td>\n      <td>0.038889</td>\n    </tr>\n    <tr>\n      <th>2</th>\n      <td>0.000000</td>\n      <td>0.027473</td>\n      <td>0.768362</td>\n      <td>0.071038</td>\n      <td>0.016575</td>\n      <td>0.016484</td>\n      <td>0.000000</td>\n      <td>0.011173</td>\n      <td>0.097701</td>\n      <td>0.061111</td>\n    </tr>\n    <tr>\n      <th>3</th>\n      <td>0.005618</td>\n      <td>0.005495</td>\n      <td>0.056497</td>\n      <td>0.721311</td>\n      <td>0.005525</td>\n      <td>0.005495</td>\n      <td>0.044199</td>\n      <td>0.027933</td>\n      <td>0.091954</td>\n      <td>0.088889</td>\n    </tr>\n    <tr>\n      <th>4</th>\n      <td>0.016854</td>\n      <td>0.010989</td>\n      <td>0.016949</td>\n      <td>0.010929</td>\n      <td>0.895028</td>\n      <td>0.016484</td>\n      <td>0.000000</td>\n      <td>0.055866</td>\n      <td>0.017241</td>\n      <td>0.011111</td>\n    </tr>\n    <tr>\n      <th>5</th>\n      <td>0.000000</td>\n      <td>0.000000</td>\n      <td>0.045198</td>\n      <td>0.016393</td>\n      <td>0.016575</td>\n      <td>0.884615</td>\n      <td>0.000000</td>\n      <td>0.016760</td>\n      <td>0.022989</td>\n      <td>0.005556</td>\n    </tr>\n    <tr>\n      <th>6</th>\n      <td>0.005618</td>\n      <td>0.000000</td>\n      <td>0.011299</td>\n      <td>0.016393</td>\n      <td>0.000000</td>\n      <td>0.000000</td>\n      <td>0.944751</td>\n      <td>0.000000</td>\n      <td>0.000000</td>\n      <td>0.005556</td>\n    </tr>\n    <tr>\n      <th>7</th>\n      <td>0.000000</td>\n      <td>0.016484</td>\n      <td>0.000000</td>\n      <td>0.010929</td>\n      <td>0.027624</td>\n      <td>0.021978</td>\n      <td>0.000000</td>\n      <td>0.782123</td>\n      <td>0.028736</td>\n      <td>0.055556</td>\n    </tr>\n    <tr>\n      <th>8</th>\n      <td>0.005618</td>\n      <td>0.010989</td>\n      <td>0.016949</td>\n      <td>0.032787</td>\n      <td>0.005525</td>\n      <td>0.005495</td>\n      <td>0.000000</td>\n      <td>0.005587</td>\n      <td>0.534483</td>\n      <td>0.072222</td>\n    </tr>\n    <tr>\n      <th>9</th>\n      <td>0.000000</td>\n      <td>0.010989</td>\n      <td>0.028249</td>\n      <td>0.087432</td>\n      <td>0.011050</td>\n      <td>0.005495</td>\n      <td>0.000000</td>\n      <td>0.016760</td>\n      <td>0.091954</td>\n      <td>0.638889</td>\n    </tr>\n  </tbody>\n</table>\n</div>"
     },
     "metadata": {},
     "output_type": "display_data"
    },
    {
     "name": "stdout",
     "output_type": "stream",
     "text": [
      "n_min: 5\n",
      "Error rate: 0.10962715637173066\n",
      "Confusion matrix:\n"
     ]
    },
    {
     "data": {
      "text/plain": "actual/expected         0         1         2         3         4         5  \\\n0                0.971910  0.000000  0.000000  0.005464  0.000000  0.000000   \n1                0.000000  0.939560  0.039548  0.010929  0.011050  0.016484   \n2                0.000000  0.000000  0.892655  0.065574  0.027624  0.043956   \n3                0.005618  0.010989  0.028249  0.846995  0.005525  0.043956   \n4                0.011236  0.000000  0.000000  0.005464  0.950276  0.016484   \n5                0.005618  0.000000  0.005650  0.010929  0.000000  0.873626   \n6                0.005618  0.010989  0.000000  0.021858  0.005525  0.005495   \n7                0.000000  0.000000  0.000000  0.016393  0.000000  0.000000   \n8                0.000000  0.032967  0.033898  0.005464  0.000000  0.000000   \n9                0.000000  0.005495  0.000000  0.010929  0.000000  0.000000   \n\nactual/expected         6         7         8         9  \n0                0.000000  0.000000  0.000000  0.016667  \n1                0.000000  0.022346  0.051724  0.005556  \n2                0.033149  0.000000  0.068966  0.011111  \n3                0.011050  0.005587  0.074713  0.038889  \n4                0.005525  0.039106  0.011494  0.005556  \n5                0.016575  0.022346  0.017241  0.027778  \n6                0.922652  0.000000  0.011494  0.011111  \n7                0.000000  0.893855  0.000000  0.011111  \n8                0.011050  0.005587  0.752874  0.016667  \n9                0.000000  0.011173  0.011494  0.855556  ",
      "text/html": "<div>\n<style scoped>\n    .dataframe tbody tr th:only-of-type {\n        vertical-align: middle;\n    }\n\n    .dataframe tbody tr th {\n        vertical-align: top;\n    }\n\n    .dataframe thead th {\n        text-align: right;\n    }\n</style>\n<table border=\"1\" class=\"dataframe\">\n  <thead>\n    <tr style=\"text-align: right;\">\n      <th>actual/expected</th>\n      <th>0</th>\n      <th>1</th>\n      <th>2</th>\n      <th>3</th>\n      <th>4</th>\n      <th>5</th>\n      <th>6</th>\n      <th>7</th>\n      <th>8</th>\n      <th>9</th>\n    </tr>\n  </thead>\n  <tbody>\n    <tr>\n      <th>0</th>\n      <td>0.971910</td>\n      <td>0.000000</td>\n      <td>0.000000</td>\n      <td>0.005464</td>\n      <td>0.000000</td>\n      <td>0.000000</td>\n      <td>0.000000</td>\n      <td>0.000000</td>\n      <td>0.000000</td>\n      <td>0.016667</td>\n    </tr>\n    <tr>\n      <th>1</th>\n      <td>0.000000</td>\n      <td>0.939560</td>\n      <td>0.039548</td>\n      <td>0.010929</td>\n      <td>0.011050</td>\n      <td>0.016484</td>\n      <td>0.000000</td>\n      <td>0.022346</td>\n      <td>0.051724</td>\n      <td>0.005556</td>\n    </tr>\n    <tr>\n      <th>2</th>\n      <td>0.000000</td>\n      <td>0.000000</td>\n      <td>0.892655</td>\n      <td>0.065574</td>\n      <td>0.027624</td>\n      <td>0.043956</td>\n      <td>0.033149</td>\n      <td>0.000000</td>\n      <td>0.068966</td>\n      <td>0.011111</td>\n    </tr>\n    <tr>\n      <th>3</th>\n      <td>0.005618</td>\n      <td>0.010989</td>\n      <td>0.028249</td>\n      <td>0.846995</td>\n      <td>0.005525</td>\n      <td>0.043956</td>\n      <td>0.011050</td>\n      <td>0.005587</td>\n      <td>0.074713</td>\n      <td>0.038889</td>\n    </tr>\n    <tr>\n      <th>4</th>\n      <td>0.011236</td>\n      <td>0.000000</td>\n      <td>0.000000</td>\n      <td>0.005464</td>\n      <td>0.950276</td>\n      <td>0.016484</td>\n      <td>0.005525</td>\n      <td>0.039106</td>\n      <td>0.011494</td>\n      <td>0.005556</td>\n    </tr>\n    <tr>\n      <th>5</th>\n      <td>0.005618</td>\n      <td>0.000000</td>\n      <td>0.005650</td>\n      <td>0.010929</td>\n      <td>0.000000</td>\n      <td>0.873626</td>\n      <td>0.016575</td>\n      <td>0.022346</td>\n      <td>0.017241</td>\n      <td>0.027778</td>\n    </tr>\n    <tr>\n      <th>6</th>\n      <td>0.005618</td>\n      <td>0.010989</td>\n      <td>0.000000</td>\n      <td>0.021858</td>\n      <td>0.005525</td>\n      <td>0.005495</td>\n      <td>0.922652</td>\n      <td>0.000000</td>\n      <td>0.011494</td>\n      <td>0.011111</td>\n    </tr>\n    <tr>\n      <th>7</th>\n      <td>0.000000</td>\n      <td>0.000000</td>\n      <td>0.000000</td>\n      <td>0.016393</td>\n      <td>0.000000</td>\n      <td>0.000000</td>\n      <td>0.000000</td>\n      <td>0.893855</td>\n      <td>0.000000</td>\n      <td>0.011111</td>\n    </tr>\n    <tr>\n      <th>8</th>\n      <td>0.000000</td>\n      <td>0.032967</td>\n      <td>0.033898</td>\n      <td>0.005464</td>\n      <td>0.000000</td>\n      <td>0.000000</td>\n      <td>0.011050</td>\n      <td>0.005587</td>\n      <td>0.752874</td>\n      <td>0.016667</td>\n    </tr>\n    <tr>\n      <th>9</th>\n      <td>0.000000</td>\n      <td>0.005495</td>\n      <td>0.000000</td>\n      <td>0.010929</td>\n      <td>0.000000</td>\n      <td>0.000000</td>\n      <td>0.000000</td>\n      <td>0.011173</td>\n      <td>0.011494</td>\n      <td>0.855556</td>\n    </tr>\n  </tbody>\n</table>\n</div>"
     },
     "metadata": {},
     "output_type": "display_data"
    },
    {
     "name": "stdout",
     "output_type": "stream",
     "text": [
      "n_min: 0\n",
      "Error rate: 0.0\n",
      "Confusion matrix:\n"
     ]
    },
    {
     "data": {
      "text/plain": "actual/expected    0    1    2    3    4    5    6    7    8    9\n0                1.0  0.0  0.0  0.0  0.0  0.0  0.0  0.0  0.0  0.0\n1                0.0  1.0  0.0  0.0  0.0  0.0  0.0  0.0  0.0  0.0\n2                0.0  0.0  1.0  0.0  0.0  0.0  0.0  0.0  0.0  0.0\n3                0.0  0.0  0.0  1.0  0.0  0.0  0.0  0.0  0.0  0.0\n4                0.0  0.0  0.0  0.0  1.0  0.0  0.0  0.0  0.0  0.0\n5                0.0  0.0  0.0  0.0  0.0  1.0  0.0  0.0  0.0  0.0\n6                0.0  0.0  0.0  0.0  0.0  0.0  1.0  0.0  0.0  0.0\n7                0.0  0.0  0.0  0.0  0.0  0.0  0.0  1.0  0.0  0.0\n8                0.0  0.0  0.0  0.0  0.0  0.0  0.0  0.0  1.0  0.0\n9                0.0  0.0  0.0  0.0  0.0  0.0  0.0  0.0  0.0  1.0",
      "text/html": "<div>\n<style scoped>\n    .dataframe tbody tr th:only-of-type {\n        vertical-align: middle;\n    }\n\n    .dataframe tbody tr th {\n        vertical-align: top;\n    }\n\n    .dataframe thead th {\n        text-align: right;\n    }\n</style>\n<table border=\"1\" class=\"dataframe\">\n  <thead>\n    <tr style=\"text-align: right;\">\n      <th>actual/expected</th>\n      <th>0</th>\n      <th>1</th>\n      <th>2</th>\n      <th>3</th>\n      <th>4</th>\n      <th>5</th>\n      <th>6</th>\n      <th>7</th>\n      <th>8</th>\n      <th>9</th>\n    </tr>\n  </thead>\n  <tbody>\n    <tr>\n      <th>0</th>\n      <td>1.0</td>\n      <td>0.0</td>\n      <td>0.0</td>\n      <td>0.0</td>\n      <td>0.0</td>\n      <td>0.0</td>\n      <td>0.0</td>\n      <td>0.0</td>\n      <td>0.0</td>\n      <td>0.0</td>\n    </tr>\n    <tr>\n      <th>1</th>\n      <td>0.0</td>\n      <td>1.0</td>\n      <td>0.0</td>\n      <td>0.0</td>\n      <td>0.0</td>\n      <td>0.0</td>\n      <td>0.0</td>\n      <td>0.0</td>\n      <td>0.0</td>\n      <td>0.0</td>\n    </tr>\n    <tr>\n      <th>2</th>\n      <td>0.0</td>\n      <td>0.0</td>\n      <td>1.0</td>\n      <td>0.0</td>\n      <td>0.0</td>\n      <td>0.0</td>\n      <td>0.0</td>\n      <td>0.0</td>\n      <td>0.0</td>\n      <td>0.0</td>\n    </tr>\n    <tr>\n      <th>3</th>\n      <td>0.0</td>\n      <td>0.0</td>\n      <td>0.0</td>\n      <td>1.0</td>\n      <td>0.0</td>\n      <td>0.0</td>\n      <td>0.0</td>\n      <td>0.0</td>\n      <td>0.0</td>\n      <td>0.0</td>\n    </tr>\n    <tr>\n      <th>4</th>\n      <td>0.0</td>\n      <td>0.0</td>\n      <td>0.0</td>\n      <td>0.0</td>\n      <td>1.0</td>\n      <td>0.0</td>\n      <td>0.0</td>\n      <td>0.0</td>\n      <td>0.0</td>\n      <td>0.0</td>\n    </tr>\n    <tr>\n      <th>5</th>\n      <td>0.0</td>\n      <td>0.0</td>\n      <td>0.0</td>\n      <td>0.0</td>\n      <td>0.0</td>\n      <td>1.0</td>\n      <td>0.0</td>\n      <td>0.0</td>\n      <td>0.0</td>\n      <td>0.0</td>\n    </tr>\n    <tr>\n      <th>6</th>\n      <td>0.0</td>\n      <td>0.0</td>\n      <td>0.0</td>\n      <td>0.0</td>\n      <td>0.0</td>\n      <td>0.0</td>\n      <td>1.0</td>\n      <td>0.0</td>\n      <td>0.0</td>\n      <td>0.0</td>\n    </tr>\n    <tr>\n      <th>7</th>\n      <td>0.0</td>\n      <td>0.0</td>\n      <td>0.0</td>\n      <td>0.0</td>\n      <td>0.0</td>\n      <td>0.0</td>\n      <td>0.0</td>\n      <td>1.0</td>\n      <td>0.0</td>\n      <td>0.0</td>\n    </tr>\n    <tr>\n      <th>8</th>\n      <td>0.0</td>\n      <td>0.0</td>\n      <td>0.0</td>\n      <td>0.0</td>\n      <td>0.0</td>\n      <td>0.0</td>\n      <td>0.0</td>\n      <td>0.0</td>\n      <td>1.0</td>\n      <td>0.0</td>\n    </tr>\n    <tr>\n      <th>9</th>\n      <td>0.0</td>\n      <td>0.0</td>\n      <td>0.0</td>\n      <td>0.0</td>\n      <td>0.0</td>\n      <td>0.0</td>\n      <td>0.0</td>\n      <td>0.0</td>\n      <td>0.0</td>\n      <td>1.0</td>\n    </tr>\n  </tbody>\n</table>\n</div>"
     },
     "metadata": {},
     "output_type": "display_data"
    },
    {
     "data": {
      "text/plain": "<Figure size 432x288 with 1 Axes>",
      "image/png": "[encoded data removed]"
     },
     "metadata": {
      "needs_background": "light"
     },
     "output_type": "display_data"
    }
   ],
   "source": [
    "def train_test(create_generative_classifiers, create_discriminative_classifier, generative_n_mins,\n",
    "               discriminative_n_mins):\n",
    "    density_tree_error = []\n",
    "    print('Generative classifier:')\n",
    "    for hyper_n_min in generative_n_mins:\n",
    "        print(f'n_min: {hyper_n_min}')\n",
    "        density_trees = create_generative_classifiers()\n",
    "        error = train_test_generative_classifier(density_trees, hyper_n_min)\n",
    "        density_tree_error.append(error)\n",
    "    show_plot(density_tree_error, generative_n_mins)\n",
    "\n",
    "    decision_tree_error = []\n",
    "    print()\n",
    "    print('Discriminative classifier:')\n",
    "    for hyper_n_min in discriminative_n_mins:\n",
    "        print(f'n_min: {hyper_n_min}')\n",
    "        error = train_test_discriminative_classifier(create_discriminative_classifier(), hyper_n_min)\n",
    "        decision_tree_error.append(error)\n",
    "    show_plot(decision_tree_error, discriminative_n_mins)\n",
    "\n",
    "\n",
    "train_test(lambda: [DensityTree() for _ in range(10)], lambda: DecisionTree(), [20, 10, 5], [20, 10, 5, 0])\n",
    "\n",
    "#train_test(lambda: [], lambda: DecisionTree(), [], [0])\n"
   ],
   "metadata": {
    "collapsed": false,
    "pycharm": {
     "name": "#%%\n"
    }
   }
  },
  {
   "cell_type": "markdown",
   "metadata": {
    "collapsed": false,
    "pycharm": {
     "name": "#%% md\n"
    }
   },
   "source": [
    "As a result the discriminative classifier (decision tree) performs a lot better than the density tree. For decreasing n_mins the error rate also decreases for both classifiers.\n",
    "With n_min = 0 for the decision tree performs a perfect fit on the train data, this means every node is pure and therefore every datapoint from the training set will be categorized correctly. Unfortunately this might also be overfitting and test data might perform in another way.\n",
    "\n",
    "The confusion matrix can be read as following: The diagonal is the share of correctly classified numbers ranging from zero to one. The other values in the matrix are the respective share of  the wrongly categorized values. e.g. for the generative classifier with n_min = 20 the share of wrongly classified 2 when expecting a 1 is 0.076923."
   ]
  },
  {
   "cell_type": "markdown",
   "metadata": {},
   "source": [
    "# Density and Decision Forest"
   ]
  },
  {
   "cell_type": "code",
   "execution_count": 49,
   "metadata": {
    "collapsed": true,
    "jupyter": {
     "outputs_hidden": true
    }
   },
   "outputs": [],
   "source": [
    "class DensityForest():\n",
    "    def __init__(self, n_trees):\n",
    "        # create ensemble\n",
    "        self.trees = [DensityTree() for i in range(n_trees)]\n",
    "\n",
    "    def train(self, data, prior, n_min=20):\n",
    "        for tree in self.trees:\n",
    "            # train each tree, using a bootstrap sample of the data\n",
    "\n",
    "            train_indices = np.random.choice(np.arange(len(data)), len(data), True)\n",
    "            train_data = data[train_indices]\n",
    "            tree.train(train_data, prior, n_min)\n",
    "\n",
    "    def predict(self, x):\n",
    "        # compute the ensemble prediction\n",
    "        return np.sum(np.array([tree.predict(x) for tree in self.trees])) / len(self.trees)"
   ]
  },
  {
   "cell_type": "code",
   "execution_count": 50,
   "metadata": {
    "collapsed": true,
    "jupyter": {
     "outputs_hidden": true
    }
   },
   "outputs": [],
   "source": [
    "class DecisionForest():\n",
    "    def __init__(self, n_trees):\n",
    "        # create ensemble\n",
    "        self.trees = [DecisionTree() for i in range(n_trees)]\n",
    "\n",
    "    def train(self, data, labels, n_min=0):\n",
    "        for i, tree in enumerate(self.trees):\n",
    "            # train each tree, using a bootstrap sample of the da\n",
    "            # print(f'Training decision tree {i}')\n",
    "            train_indices = np.random.choice(range(len(data)), len(data), True)\n",
    "            train_data = data[train_indices]\n",
    "            train_labels = labels[train_indices]\n",
    "            tree.train(train_data, train_labels, n_min)\n",
    "            # print(f'Decision tree {i} trained')\n",
    "\n",
    "    def predict(self, x):\n",
    "        # compute the ensemble prediction\n",
    "        return np.argmax(np.bincount([tree.predict(x) for tree in self.trees], minlength=10))"
   ]
  },
  {
   "cell_type": "markdown",
   "metadata": {},
   "source": [
    "# Evaluation of Density and Decision Forest\n",
    "For the forest algorithms we reuse the evaluation functions from above and just pass a function that generates an array with 10 `DensityForest`s and a function which creates a new `DecisionForest`, As hyperparameters we choose n_min = 20 for the generative classifier (density forest) and n_min = 0 for the decision forest."
   ]
  },
  {
   "cell_type": "code",
   "execution_count": 51,
   "metadata": {
    "collapsed": true,
    "jupyter": {
     "outputs_hidden": true
    }
   },
   "outputs": [
    {
     "name": "stdout",
     "output_type": "stream",
     "text": [
      "Generative classifier:\n",
      "n_min: 20\n",
      "Error rate: 0.10072342793544797\n",
      "Confusion matrix:\n"
     ]
    },
    {
     "data": {
      "text/plain": "actual/expected         0         1         2         3         4         5  \\\n0                0.994382  0.000000  0.000000  0.000000  0.000000  0.000000   \n1                0.005618  0.945055  0.056497  0.005464  0.011050  0.000000   \n2                0.000000  0.016484  0.853107  0.000000  0.000000  0.000000   \n3                0.000000  0.000000  0.033898  0.836066  0.000000  0.049451   \n4                0.000000  0.005495  0.000000  0.000000  0.961326  0.005495   \n5                0.000000  0.005495  0.000000  0.010929  0.000000  0.879121   \n6                0.000000  0.000000  0.000000  0.000000  0.000000  0.000000   \n7                0.000000  0.005495  0.000000  0.021858  0.027624  0.010989   \n8                0.000000  0.021978  0.056497  0.120219  0.000000  0.043956   \n9                0.000000  0.000000  0.000000  0.005464  0.000000  0.010989   \n\nactual/expected    6         7         8         9  \n0                0.0  0.000000  0.000000  0.000000  \n1                0.0  0.000000  0.074713  0.016667  \n2                0.0  0.000000  0.000000  0.000000  \n3                0.0  0.000000  0.005747  0.211111  \n4                0.0  0.000000  0.000000  0.011111  \n5                0.0  0.000000  0.005747  0.011111  \n6                1.0  0.000000  0.000000  0.000000  \n7                0.0  0.994413  0.000000  0.044444  \n8                0.0  0.005587  0.913793  0.088889  \n9                0.0  0.000000  0.000000  0.616667  ",
      "text/html": "<div>\n<style scoped>\n    .dataframe tbody tr th:only-of-type {\n        vertical-align: middle;\n    }\n\n    .dataframe tbody tr th {\n        vertical-align: top;\n    }\n\n    .dataframe thead th {\n        text-align: right;\n    }\n</style>\n<table border=\"1\" class=\"dataframe\">\n  <thead>\n    <tr style=\"text-align: right;\">\n      <th>actual/expected</th>\n      <th>0</th>\n      <th>1</th>\n      <th>2</th>\n      <th>3</th>\n      <th>4</th>\n      <th>5</th>\n      <th>6</th>\n      <th>7</th>\n      <th>8</th>\n      <th>9</th>\n    </tr>\n  </thead>\n  <tbody>\n    <tr>\n      <th>0</th>\n      <td>0.994382</td>\n      <td>0.000000</td>\n      <td>0.000000</td>\n      <td>0.000000</td>\n      <td>0.000000</td>\n      <td>0.000000</td>\n      <td>0.0</td>\n      <td>0.000000</td>\n      <td>0.000000</td>\n      <td>0.000000</td>\n    </tr>\n    <tr>\n      <th>1</th>\n      <td>0.005618</td>\n      <td>0.945055</td>\n      <td>0.056497</td>\n      <td>0.005464</td>\n      <td>0.011050</td>\n      <td>0.000000</td>\n      <td>0.0</td>\n      <td>0.000000</td>\n      <td>0.074713</td>\n      <td>0.016667</td>\n    </tr>\n    <tr>\n      <th>2</th>\n      <td>0.000000</td>\n      <td>0.016484</td>\n      <td>0.853107</td>\n      <td>0.000000</td>\n      <td>0.000000</td>\n      <td>0.000000</td>\n      <td>0.0</td>\n      <td>0.000000</td>\n      <td>0.000000</td>\n      <td>0.000000</td>\n    </tr>\n    <tr>\n      <th>3</th>\n      <td>0.000000</td>\n      <td>0.000000</td>\n      <td>0.033898</td>\n      <td>0.836066</td>\n      <td>0.000000</td>\n      <td>0.049451</td>\n      <td>0.0</td>\n      <td>0.000000</td>\n      <td>0.005747</td>\n      <td>0.211111</td>\n    </tr>\n    <tr>\n      <th>4</th>\n      <td>0.000000</td>\n      <td>0.005495</td>\n      <td>0.000000</td>\n      <td>0.000000</td>\n      <td>0.961326</td>\n      <td>0.005495</td>\n      <td>0.0</td>\n      <td>0.000000</td>\n      <td>0.000000</td>\n      <td>0.011111</td>\n    </tr>\n    <tr>\n      <th>5</th>\n      <td>0.000000</td>\n      <td>0.005495</td>\n      <td>0.000000</td>\n      <td>0.010929</td>\n      <td>0.000000</td>\n      <td>0.879121</td>\n      <td>0.0</td>\n      <td>0.000000</td>\n      <td>0.005747</td>\n      <td>0.011111</td>\n    </tr>\n    <tr>\n      <th>6</th>\n      <td>0.000000</td>\n      <td>0.000000</td>\n      <td>0.000000</td>\n      <td>0.000000</td>\n      <td>0.000000</td>\n      <td>0.000000</td>\n      <td>1.0</td>\n      <td>0.000000</td>\n      <td>0.000000</td>\n      <td>0.000000</td>\n    </tr>\n    <tr>\n      <th>7</th>\n      <td>0.000000</td>\n      <td>0.005495</td>\n      <td>0.000000</td>\n      <td>0.021858</td>\n      <td>0.027624</td>\n      <td>0.010989</td>\n      <td>0.0</td>\n      <td>0.994413</td>\n      <td>0.000000</td>\n      <td>0.044444</td>\n    </tr>\n    <tr>\n      <th>8</th>\n      <td>0.000000</td>\n      <td>0.021978</td>\n      <td>0.056497</td>\n      <td>0.120219</td>\n      <td>0.000000</td>\n      <td>0.043956</td>\n      <td>0.0</td>\n      <td>0.005587</td>\n      <td>0.913793</td>\n      <td>0.088889</td>\n    </tr>\n    <tr>\n      <th>9</th>\n      <td>0.000000</td>\n      <td>0.000000</td>\n      <td>0.000000</td>\n      <td>0.005464</td>\n      <td>0.000000</td>\n      <td>0.010989</td>\n      <td>0.0</td>\n      <td>0.000000</td>\n      <td>0.000000</td>\n      <td>0.616667</td>\n    </tr>\n  </tbody>\n</table>\n</div>"
     },
     "metadata": {},
     "output_type": "display_data"
    },
    {
     "data": {
      "text/plain": "<Figure size 432x288 with 1 Axes>",
      "image/png": "[encoded data removed]"
     },
     "metadata": {
      "needs_background": "light"
     },
     "output_type": "display_data"
    },
    {
     "name": "stdout",
     "output_type": "stream",
     "text": [
      "\n",
      "Discriminative classifier:\n",
      "n_min: 20\n",
      "Error rate: 0.12799109627156371\n",
      "Confusion matrix:\n"
     ]
    },
    {
     "data": {
      "text/plain": "actual/expected         0         1         2         3         4         5  \\\n0                0.977528  0.000000  0.000000  0.005464  0.022099  0.005495   \n1                0.000000  0.967033  0.039548  0.005464  0.011050  0.010989   \n2                0.000000  0.005495  0.875706  0.076503  0.000000  0.021978   \n3                0.005618  0.000000  0.039548  0.786885  0.000000  0.038462   \n4                0.005618  0.000000  0.005650  0.005464  0.922652  0.021978   \n5                0.000000  0.021978  0.011299  0.027322  0.016575  0.873626   \n6                0.005618  0.000000  0.011299  0.032787  0.000000  0.010989   \n7                0.000000  0.000000  0.011299  0.032787  0.027624  0.005495   \n8                0.005618  0.000000  0.005650  0.016393  0.000000  0.005495   \n9                0.000000  0.005495  0.000000  0.010929  0.000000  0.005495   \n\nactual/expected         6         7         8         9  \n0                0.000000  0.005587  0.005747  0.022222  \n1                0.016575  0.005587  0.022989  0.022222  \n2                0.000000  0.005587  0.063218  0.044444  \n3                0.011050  0.000000  0.040230  0.072222  \n4                0.005525  0.055866  0.011494  0.027778  \n5                0.000000  0.033520  0.051724  0.038889  \n6                0.966851  0.000000  0.017241  0.038889  \n7                0.000000  0.888268  0.000000  0.038889  \n8                0.000000  0.000000  0.787356  0.022222  \n9                0.000000  0.005587  0.000000  0.672222  ",
      "text/html": "<div>\n<style scoped>\n    .dataframe tbody tr th:only-of-type {\n        vertical-align: middle;\n    }\n\n    .dataframe tbody tr th {\n        vertical-align: top;\n    }\n\n    .dataframe thead th {\n        text-align: right;\n    }\n</style>\n<table border=\"1\" class=\"dataframe\">\n  <thead>\n    <tr style=\"text-align: right;\">\n      <th>actual/expected</th>\n      <th>0</th>\n      <th>1</th>\n      <th>2</th>\n      <th>3</th>\n      <th>4</th>\n      <th>5</th>\n      <th>6</th>\n      <th>7</th>\n      <th>8</th>\n      <th>9</th>\n    </tr>\n  </thead>\n  <tbody>\n    <tr>\n      <th>0</th>\n      <td>0.977528</td>\n      <td>0.000000</td>\n      <td>0.000000</td>\n      <td>0.005464</td>\n      <td>0.022099</td>\n      <td>0.005495</td>\n      <td>0.000000</td>\n      <td>0.005587</td>\n      <td>0.005747</td>\n      <td>0.022222</td>\n    </tr>\n    <tr>\n      <th>1</th>\n      <td>0.000000</td>\n      <td>0.967033</td>\n      <td>0.039548</td>\n      <td>0.005464</td>\n      <td>0.011050</td>\n      <td>0.010989</td>\n      <td>0.016575</td>\n      <td>0.005587</td>\n      <td>0.022989</td>\n      <td>0.022222</td>\n    </tr>\n    <tr>\n      <th>2</th>\n      <td>0.000000</td>\n      <td>0.005495</td>\n      <td>0.875706</td>\n      <td>0.076503</td>\n      <td>0.000000</td>\n      <td>0.021978</td>\n      <td>0.000000</td>\n      <td>0.005587</td>\n      <td>0.063218</td>\n      <td>0.044444</td>\n    </tr>\n    <tr>\n      <th>3</th>\n      <td>0.005618</td>\n      <td>0.000000</td>\n      <td>0.039548</td>\n      <td>0.786885</td>\n      <td>0.000000</td>\n      <td>0.038462</td>\n      <td>0.011050</td>\n      <td>0.000000</td>\n      <td>0.040230</td>\n      <td>0.072222</td>\n    </tr>\n    <tr>\n      <th>4</th>\n      <td>0.005618</td>\n      <td>0.000000</td>\n      <td>0.005650</td>\n      <td>0.005464</td>\n      <td>0.922652</td>\n      <td>0.021978</td>\n      <td>0.005525</td>\n      <td>0.055866</td>\n      <td>0.011494</td>\n      <td>0.027778</td>\n    </tr>\n    <tr>\n      <th>5</th>\n      <td>0.000000</td>\n      <td>0.021978</td>\n      <td>0.011299</td>\n      <td>0.027322</td>\n      <td>0.016575</td>\n      <td>0.873626</td>\n      <td>0.000000</td>\n      <td>0.033520</td>\n      <td>0.051724</td>\n      <td>0.038889</td>\n    </tr>\n    <tr>\n      <th>6</th>\n      <td>0.005618</td>\n      <td>0.000000</td>\n      <td>0.011299</td>\n      <td>0.032787</td>\n      <td>0.000000</td>\n      <td>0.010989</td>\n      <td>0.966851</td>\n      <td>0.000000</td>\n      <td>0.017241</td>\n      <td>0.038889</td>\n    </tr>\n    <tr>\n      <th>7</th>\n      <td>0.000000</td>\n      <td>0.000000</td>\n      <td>0.011299</td>\n      <td>0.032787</td>\n      <td>0.027624</td>\n      <td>0.005495</td>\n      <td>0.000000</td>\n      <td>0.888268</td>\n      <td>0.000000</td>\n      <td>0.038889</td>\n    </tr>\n    <tr>\n      <th>8</th>\n      <td>0.005618</td>\n      <td>0.000000</td>\n      <td>0.005650</td>\n      <td>0.016393</td>\n      <td>0.000000</td>\n      <td>0.005495</td>\n      <td>0.000000</td>\n      <td>0.000000</td>\n      <td>0.787356</td>\n      <td>0.022222</td>\n    </tr>\n    <tr>\n      <th>9</th>\n      <td>0.000000</td>\n      <td>0.005495</td>\n      <td>0.000000</td>\n      <td>0.010929</td>\n      <td>0.000000</td>\n      <td>0.005495</td>\n      <td>0.000000</td>\n      <td>0.005587</td>\n      <td>0.000000</td>\n      <td>0.672222</td>\n    </tr>\n  </tbody>\n</table>\n</div>"
     },
     "metadata": {},
     "output_type": "display_data"
    },
    {
     "name": "stdout",
     "output_type": "stream",
     "text": [
      "n_min: 0\n"
     ]
    },
    {
     "name": "stderr",
     "output_type": "stream",
     "text": [
      "/tmp/ipykernel_145619/981153019.py:7: RuntimeWarning: invalid value encountered in true_divide\n",
      "  node.response = np.bincount(node.labels, minlength=10) / node.N\n"
     ]
    },
    {
     "name": "stdout",
     "output_type": "stream",
     "text": [
      "Error rate: 0.0005564830272676684\n",
      "Confusion matrix:\n"
     ]
    },
    {
     "data": {
      "text/plain": "actual/expected    0    1    2    3    4    5    6    7    8         9\n0                1.0  0.0  0.0  0.0  0.0  0.0  0.0  0.0  0.0  0.005556\n1                0.0  1.0  0.0  0.0  0.0  0.0  0.0  0.0  0.0  0.000000\n2                0.0  0.0  1.0  0.0  0.0  0.0  0.0  0.0  0.0  0.000000\n3                0.0  0.0  0.0  1.0  0.0  0.0  0.0  0.0  0.0  0.000000\n4                0.0  0.0  0.0  0.0  1.0  0.0  0.0  0.0  0.0  0.000000\n5                0.0  0.0  0.0  0.0  0.0  1.0  0.0  0.0  0.0  0.000000\n6                0.0  0.0  0.0  0.0  0.0  0.0  1.0  0.0  0.0  0.000000\n7                0.0  0.0  0.0  0.0  0.0  0.0  0.0  1.0  0.0  0.000000\n8                0.0  0.0  0.0  0.0  0.0  0.0  0.0  0.0  1.0  0.000000\n9                0.0  0.0  0.0  0.0  0.0  0.0  0.0  0.0  0.0  0.994444",
      "text/html": "<div>\n<style scoped>\n    .dataframe tbody tr th:only-of-type {\n        vertical-align: middle;\n    }\n\n    .dataframe tbody tr th {\n        vertical-align: top;\n    }\n\n    .dataframe thead th {\n        text-align: right;\n    }\n</style>\n<table border=\"1\" class=\"dataframe\">\n  <thead>\n    <tr style=\"text-align: right;\">\n      <th>actual/expected</th>\n      <th>0</th>\n      <th>1</th>\n      <th>2</th>\n      <th>3</th>\n      <th>4</th>\n      <th>5</th>\n      <th>6</th>\n      <th>7</th>\n      <th>8</th>\n      <th>9</th>\n    </tr>\n  </thead>\n  <tbody>\n    <tr>\n      <th>0</th>\n      <td>1.0</td>\n      <td>0.0</td>\n      <td>0.0</td>\n      <td>0.0</td>\n      <td>0.0</td>\n      <td>0.0</td>\n      <td>0.0</td>\n      <td>0.0</td>\n      <td>0.0</td>\n      <td>0.005556</td>\n    </tr>\n    <tr>\n      <th>1</th>\n      <td>0.0</td>\n      <td>1.0</td>\n      <td>0.0</td>\n      <td>0.0</td>\n      <td>0.0</td>\n      <td>0.0</td>\n      <td>0.0</td>\n      <td>0.0</td>\n      <td>0.0</td>\n      <td>0.000000</td>\n    </tr>\n    <tr>\n      <th>2</th>\n      <td>0.0</td>\n      <td>0.0</td>\n      <td>1.0</td>\n      <td>0.0</td>\n      <td>0.0</td>\n      <td>0.0</td>\n      <td>0.0</td>\n      <td>0.0</td>\n      <td>0.0</td>\n      <td>0.000000</td>\n    </tr>\n    <tr>\n      <th>3</th>\n      <td>0.0</td>\n      <td>0.0</td>\n      <td>0.0</td>\n      <td>1.0</td>\n      <td>0.0</td>\n      <td>0.0</td>\n      <td>0.0</td>\n      <td>0.0</td>\n      <td>0.0</td>\n      <td>0.000000</td>\n    </tr>\n    <tr>\n      <th>4</th>\n      <td>0.0</td>\n      <td>0.0</td>\n      <td>0.0</td>\n      <td>0.0</td>\n      <td>1.0</td>\n      <td>0.0</td>\n      <td>0.0</td>\n      <td>0.0</td>\n      <td>0.0</td>\n      <td>0.000000</td>\n    </tr>\n    <tr>\n      <th>5</th>\n      <td>0.0</td>\n      <td>0.0</td>\n      <td>0.0</td>\n      <td>0.0</td>\n      <td>0.0</td>\n      <td>1.0</td>\n      <td>0.0</td>\n      <td>0.0</td>\n      <td>0.0</td>\n      <td>0.000000</td>\n    </tr>\n    <tr>\n      <th>6</th>\n      <td>0.0</td>\n      <td>0.0</td>\n      <td>0.0</td>\n      <td>0.0</td>\n      <td>0.0</td>\n      <td>0.0</td>\n      <td>1.0</td>\n      <td>0.0</td>\n      <td>0.0</td>\n      <td>0.000000</td>\n    </tr>\n    <tr>\n      <th>7</th>\n      <td>0.0</td>\n      <td>0.0</td>\n      <td>0.0</td>\n      <td>0.0</td>\n      <td>0.0</td>\n      <td>0.0</td>\n      <td>0.0</td>\n      <td>1.0</td>\n      <td>0.0</td>\n      <td>0.000000</td>\n    </tr>\n    <tr>\n      <th>8</th>\n      <td>0.0</td>\n      <td>0.0</td>\n      <td>0.0</td>\n      <td>0.0</td>\n      <td>0.0</td>\n      <td>0.0</td>\n      <td>0.0</td>\n      <td>0.0</td>\n      <td>1.0</td>\n      <td>0.000000</td>\n    </tr>\n    <tr>\n      <th>9</th>\n      <td>0.0</td>\n      <td>0.0</td>\n      <td>0.0</td>\n      <td>0.0</td>\n      <td>0.0</td>\n      <td>0.0</td>\n      <td>0.0</td>\n      <td>0.0</td>\n      <td>0.0</td>\n      <td>0.994444</td>\n    </tr>\n  </tbody>\n</table>\n</div>"
     },
     "metadata": {},
     "output_type": "display_data"
    },
    {
     "data": {
      "text/plain": "<Figure size 432x288 with 1 Axes>",
      "image/png": "[encoded data removed]"
     },
     "metadata": {
      "needs_background": "light"
     },
     "output_type": "display_data"
    },
    {
     "data": {
      "text/plain": "<Figure size 432x288 with 1 Axes>",
      "image/png": "[encoded data removed]"
     },
     "metadata": {
      "needs_background": "light"
     },
     "output_type": "display_data"
    }
   ],
   "source": [
    "# train forests (with 20 trees per forest), plot training error confusion matrices, and comment on your results\n",
    "train_test(lambda: [DensityForest(20) for _ in range(10)], lambda: DecisionForest(20), [20], [20, 0])\n",
    "\n",
    "sklearn_random_forest = RandomForestClassifier(20, min_samples_split = 20)\n",
    "sklearn_random_forest.fit(data,target)\n",
    "\n",
    "sklean_calculated = sklearn_random_forest.predict(data)\n",
    "\n",
    "sklearn_err = sklean_calculated != target\n",
    "sklearn_err_rate = np.sum(sklearn_err) / len(target)\n",
    "calc_confusion_matrix(sklean_calculated, target)\n",
    "show_plot(np.array([sklearn_err_rate]), np.array([0]))\n"
   ]
  },
  {
   "cell_type": "markdown",
   "source": [
    "The difference in the results between the generative and the discriminative classifier continue for the forest algorithms. the Decision forest performs a lot better then the density forest. The density forest has an error rate in the parts-per-thousands range where the density forest has an error from around 10%.\n",
    "The sklearn implementation of the random forest performs better for n_min= 20, but when setting n_min to 0 for the decision forest they perform quite similar\n"
   ],
   "metadata": {
    "collapsed": false,
    "pycharm": {
     "name": "#%% md\n"
    }
   }
  }
 ],
 "metadata": {
  "kernelspec": {
   "display_name": "Python 3 (ipykernel)",
   "language": "python",
   "name": "python3"
  },
  "language_info": {
   "codemirror_mode": {
    "name": "ipython",
    "version": 3
   },
   "file_extension": ".py",
   "mimetype": "text/x-python",
   "name": "python",
   "nbconvert_exporter": "python",
   "pygments_lexer": "ipython3",
   "version": "3.8.10"
  }
 },
 "nbformat": 4,
 "nbformat_minor": 4
}