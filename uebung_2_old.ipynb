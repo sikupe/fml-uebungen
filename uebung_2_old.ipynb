{
 "cells": [
  {
   "cell_type": "code",
   "execution_count": 165,
   "metadata": {
    "collapsed": true
   },
   "outputs": [
    {
     "name": "stdout",
     "output_type": "stream",
     "text": [
      "dict_keys(['data', 'target', 'frame', 'feature_names', 'target_names', 'images', 'DESCR'])\n",
      "1797 data sets loaded.\n",
      "\n",
      "Data shape: (1797, 64); dtype: float64\n",
      "Image shape: (1797, 8, 8); dtype: float64\n",
      "Classification shape: (1797,); dtype: int64\n",
      "Classes shape: (10,); dtype: int64\n",
      "\n",
      "List of all classes: [0 1 2 3 4 5 6 7 8 9]\n"
     ]
    }
   ],
   "source": [
    "import numpy as np\n",
    "from sklearn import model_selection\n",
    "from sklearn.datasets import load_digits\n",
    "from matplotlib import pyplot as plt\n",
    "\n",
    "digits = load_digits()\n",
    "print(digits.keys())\n",
    "data = digits[\"data\"]\n",
    "images = digits[\"images\"]\n",
    "classification = digits[\"target\"]\n",
    "class_names = digits[\"target_names\"]\n",
    "\n",
    "print(\"%d data sets loaded.\\n\" % len(data))\n",
    "print(\"Data shape: %s; dtype: %s\" % (np.shape(data), data.dtype))\n",
    "print(\"Image shape: %s; dtype: %s\" % (np.shape(images), images.dtype))\n",
    "print(\"Classification shape: %s; dtype: %s\" % (np.shape(classification), classification.dtype))\n",
    "print(\"Classes shape: %s; dtype: %s\" % (np.shape(class_names), class_names.dtype))\n",
    "print(\"\\nList of all classes: %s\" % class_names)"
   ]
  },
  {
   "cell_type": "markdown",
   "source": [
    "## Data preparation"
   ],
   "metadata": {
    "collapsed": false
   }
  },
  {
   "cell_type": "code",
   "execution_count": 166,
   "outputs": [
    {
     "name": "stdout",
     "output_type": "stream",
     "text": [
      "Filtered dataset size: 361\n"
     ]
    }
   ],
   "source": [
    "data = data[(classification == 1) | (classification == 7)]\n",
    "classification = classification[(classification == 1) | (classification == 7)]\n",
    "\n",
    "assert len(data) == 361\n",
    "assert len(classification) == 361\n",
    "print(f'Filtered dataset size: {len(data)}')\n",
    "\n",
    "train_data, test_data, train_labels, test_labels = model_selection.train_test_split(data, classification,\n",
    "                                                                                    test_size=0.4)"
   ],
   "metadata": {
    "collapsed": false,
    "pycharm": {
     "name": "#%%\n"
    }
   }
  },
  {
   "cell_type": "markdown",
   "source": [
    "## Dimension Reduction"
   ],
   "metadata": {
    "collapsed": false
   }
  },
  {
   "cell_type": "code",
   "execution_count": 167,
   "outputs": [
    {
     "data": {
      "text/plain": "<Figure size 432x288 with 1 Axes>",
      "image/png": "[encoded data removed]"
     },
     "metadata": {
      "needs_background": "light"
     },
     "output_type": "display_data"
    },
    {
     "data": {
      "text/plain": "<Figure size 432x288 with 1 Axes>",
      "image/png": "[encoded data removed]"
     },
     "metadata": {
      "needs_background": "light"
     },
     "output_type": "display_data"
    },
    {
     "data": {
      "text/plain": "<Figure size 432x288 with 1 Axes>",
      "image/png": "[encoded data removed]"
     },
     "metadata": {
      "needs_background": "light"
     },
     "output_type": "display_data"
    },
    {
     "name": "stderr",
     "output_type": "stream",
     "text": [
      "/tmp/ipykernel_27641/2223812956.py:29: RuntimeWarning: divide by zero encountered in double_scalars\n",
      "  return np.array([0.3 * x[22] + 42 * (x[12] / x[63]), x[32] - x[61]])\n",
      "/tmp/ipykernel_27641/2223812956.py:29: RuntimeWarning: invalid value encountered in double_scalars\n",
      "  return np.array([0.3 * x[22] + 42 * (x[12] / x[63]), x[32] - x[61]])\n"
     ]
    }
   ],
   "source": [
    "data_1 = data[classification == 1]\n",
    "data_7 = data[classification == 7]\n",
    "\n",
    "mean_1 = np.mean(data_1, axis=0)\n",
    "mean_7 = np.mean(data_7, axis=0)\n",
    "mean_diff = mean_1 - mean_7\n",
    "\n",
    "mean_ind_1 = np.argpartition(mean_1, -2)[-2:]\n",
    "mean_ind_7 = np.argpartition(mean_7, -2)[-2:]\n",
    "mean_ind_diff = np.argpartition(mean_diff, -4)[-4:]\n",
    "\n",
    "mean_1_plt = mean_1.reshape((8, 8))\n",
    "mean_7_plt = mean_7.reshape((8, 8))\n",
    "mean_diff_plt = mean_diff.reshape((8, 8))\n",
    "\n",
    "plt.imshow(mean_1_plt)\n",
    "plt.show()\n",
    "plt.imshow(mean_7_plt)\n",
    "plt.show()\n",
    "plt.imshow(mean_diff_plt)\n",
    "plt.show()\n",
    "\n",
    "\n",
    "def reduce_with_mean(x):\n",
    "    return np.array([x[mean_ind_diff[0]], x[mean_ind_diff[1]]])\n",
    "\n",
    "\n",
    "def reduce_with_exercise_option(x):\n",
    "    return np.array([0.3 * x[22] + 42 * (x[12] / x[63]), x[32] - x[61]])\n",
    "\n",
    "\n",
    "def reduce_dim(x_s, reduce_func=reduce_with_exercise_option):\n",
    "    res = np.empty((len(x_s), 2), dtype=float)\n",
    "    for i, x in enumerate(x_s):\n",
    "        res[i] = reduce_func(x)\n",
    "    return res\n",
    "\n",
    "\n",
    "train_red = reduce_dim(train_data)\n",
    "test_red = reduce_dim(test_data)"
   ],
   "metadata": {
    "collapsed": false,
    "pycharm": {
     "name": "#%%\n"
    }
   }
  },
  {
   "cell_type": "markdown",
   "source": [
    "## Scatter plot"
   ],
   "metadata": {
    "collapsed": false
   }
  },
  {
   "cell_type": "code",
   "execution_count": 168,
   "outputs": [
    {
     "data": {
      "text/plain": "<Figure size 432x288 with 1 Axes>",
      "image/png": "[encoded data removed]"
     },
     "metadata": {
      "needs_background": "light"
     },
     "output_type": "display_data"
    }
   ],
   "source": [
    "train_red_scatter = np.moveaxis(train_red, 1, 0)\n",
    "test_red_scatter = np.moveaxis(test_red, 1, 0)\n",
    "\n",
    "plt.scatter(np.concatenate([train_red_scatter[0], test_red_scatter[0]]),\n",
    "            np.concatenate([train_red_scatter[1], test_red_scatter[1]]),\n",
    "            c=np.concatenate((np.full(len(train_red), 0), np.full(len(test_red), 1))))\n",
    "plt.show()"
   ],
   "metadata": {
    "collapsed": false,
    "pycharm": {
     "name": "#%%\n"
    }
   }
  },
  {
   "cell_type": "markdown",
   "source": [
    "## Nearest mean"
   ],
   "metadata": {
    "collapsed": false
   }
  },
  {
   "cell_type": "code",
   "execution_count": 169,
   "outputs": [
    {
     "name": "stdout",
     "output_type": "stream",
     "text": [
      "0.9172413793103448\n"
     ]
    },
    {
     "name": "stderr",
     "output_type": "stream",
     "text": [
      "/tmp/ipykernel_27641/1761926724.py:8: RuntimeWarning: invalid value encountered in subtract\n",
      "  dist_1 = np.sqrt(np.sum((test_features - mean_ts_1) ** 2, axis=1))\n",
      "/tmp/ipykernel_27641/1761926724.py:9: RuntimeWarning: invalid value encountered in subtract\n",
      "  dist_7 = np.sqrt(np.sum((test_features - mean_ts_7) ** 2, axis=1))\n"
     ]
    }
   ],
   "source": [
    "def nearest_mean(training_features, training_labels, test_features):\n",
    "    ts_1 = training_features[training_labels == 1]\n",
    "    ts_7 = training_features[training_labels == 7]\n",
    "\n",
    "    mean_ts_1 = np.mean(ts_1)\n",
    "    mean_ts_7 = np.mean(ts_7)\n",
    "\n",
    "    dist_1 = np.sqrt(np.sum((test_features - mean_ts_1) ** 2, axis=1))\n",
    "    dist_7 = np.sqrt(np.sum((test_features - mean_ts_7) ** 2, axis=1))\n",
    "\n",
    "    sevens = dist_1 < dist_7\n",
    "    ones = dist_1 >= dist_7\n",
    "\n",
    "    return ones * 1 + sevens * 7\n",
    "\n",
    "\n",
    "predicted_labels = nearest_mean(train_red, train_labels, test_red)\n",
    "error = test_labels != predicted_labels\n",
    "error_rate = np.sum(error) / len(error)\n",
    "\n",
    "print(error_rate)"
   ],
   "metadata": {
    "collapsed": false,
    "pycharm": {
     "name": "#%%\n"
    }
   }
  },
  {
   "cell_type": "markdown",
   "source": [
    "## Visualize decision regions"
   ],
   "metadata": {
    "collapsed": false
   }
  },
  {
   "cell_type": "code",
   "execution_count": 170,
   "outputs": [
    {
     "name": "stdout",
     "output_type": "stream",
     "text": [
      "[[[ 0.    0.  ]\n",
      "  [ 0.    0.08]\n",
      "  [ 0.    0.16]\n",
      "  ...\n",
      "  [ 0.   15.76]\n",
      "  [ 0.   15.84]\n",
      "  [ 0.   15.92]]\n",
      "\n",
      " [[ 0.08  0.  ]\n",
      "  [ 0.08  0.08]\n",
      "  [ 0.08  0.16]\n",
      "  ...\n",
      "  [ 0.08 15.76]\n",
      "  [ 0.08 15.84]\n",
      "  [ 0.08 15.92]]\n",
      "\n",
      " [[ 0.16  0.  ]\n",
      "  [ 0.16  0.08]\n",
      "  [ 0.16  0.16]\n",
      "  ...\n",
      "  [ 0.16 15.76]\n",
      "  [ 0.16 15.84]\n",
      "  [ 0.16 15.92]]\n",
      "\n",
      " ...\n",
      "\n",
      " [[15.76  0.  ]\n",
      "  [15.76  0.08]\n",
      "  [15.76  0.16]\n",
      "  ...\n",
      "  [15.76 15.76]\n",
      "  [15.76 15.84]\n",
      "  [15.76 15.92]]\n",
      "\n",
      " [[15.84  0.  ]\n",
      "  [15.84  0.08]\n",
      "  [15.84  0.16]\n",
      "  ...\n",
      "  [15.84 15.76]\n",
      "  [15.84 15.84]\n",
      "  [15.84 15.92]]\n",
      "\n",
      " [[15.92  0.  ]\n",
      "  [15.92  0.08]\n",
      "  [15.92  0.16]\n",
      "  ...\n",
      "  [15.92 15.76]\n",
      "  [15.92 15.84]\n",
      "  [15.92 15.92]]]\n",
      "[[ 0.    0.  ]\n",
      " [ 0.    0.08]\n",
      " [ 0.    0.16]\n",
      " ...\n",
      " [15.92 15.76]\n",
      " [15.92 15.84]\n",
      " [15.92 15.92]]\n"
     ]
    },
    {
     "data": {
      "text/plain": "<Figure size 432x288 with 1 Axes>",
      "image/png": "[encoded data removed]"
     },
     "metadata": {
      "needs_background": "light"
     },
     "output_type": "display_data"
    }
   ],
   "source": [
    "line_size = 200\n",
    "size = line_size ** 2\n",
    "vis_test = np.empty((line_size, line_size, 2))\n",
    "for i in range(200):\n",
    "    for j in range(200):\n",
    "        vis_test[i][j][0] = i\n",
    "        vis_test[i][j][1] = j\n",
    "\n",
    "vis_test /= 200\n",
    "vis_test *= 16\n",
    "\n",
    "vis_test_lin = vis_test.reshape((size, 2))\n",
    "print(vis_test)\n",
    "print(vis_test_lin)\n",
    "\n",
    "pred = nearest_mean(train_red, train_labels, vis_test_lin)\n",
    "pred_img = pred.reshape((200,200))\n",
    "\n",
    "plt.imshow(pred_img)\n",
    "plt.show()\n"
   ],
   "metadata": {
    "collapsed": false,
    "pycharm": {
     "name": "#%%\n"
    }
   }
  }
 ],
 "metadata": {
  "kernelspec": {
   "display_name": "Python 3",
   "language": "python",
   "name": "python3"
  },
  "language_info": {
   "codemirror_mode": {
    "name": "ipython",
    "version": 2
   },
   "file_extension": ".py",
   "mimetype": "text/x-python",
   "name": "python",
   "nbconvert_exporter": "python",
   "pygments_lexer": "ipython2",
   "version": "2.7.6"
  }
 },
 "nbformat": 4,
 "nbformat_minor": 0
}